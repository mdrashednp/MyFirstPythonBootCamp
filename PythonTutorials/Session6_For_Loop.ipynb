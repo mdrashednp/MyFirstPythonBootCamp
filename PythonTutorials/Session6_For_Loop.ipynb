{
 "cells": [
  {
   "cell_type": "code",
   "execution_count": 6,
   "id": "ffea1455",
   "metadata": {},
   "outputs": [
    {
     "name": "stdout",
     "output_type": "stream",
     "text": [
      "Chips1,Chips2,Chips3,Chips4\n"
     ]
    }
   ],
   "source": [
    "various_chips = \"Chips1,Chips2,Chips3,Chips4\"\n",
    "for chips in various_chips.split():\n",
    "    print (chips)"
   ]
  },
  {
   "cell_type": "code",
   "execution_count": 7,
   "id": "804055df",
   "metadata": {},
   "outputs": [
    {
     "name": "stdout",
     "output_type": "stream",
     "text": [
      "Chips1\n",
      "Chips2\n",
      "Chips3\n",
      "Chips4\n"
     ]
    }
   ],
   "source": [
    "various_chips = \"Chips1,Chips2,Chips3,Chips4\"\n",
    "for chips in various_chips.split(\",\"):\n",
    "    print (chips)"
   ]
  },
  {
   "cell_type": "code",
   "execution_count": 12,
   "id": "dfdd26b3",
   "metadata": {},
   "outputs": [
    {
     "name": "stdout",
     "output_type": "stream",
     "text": [
      "Testing Chips:  Chips1\n",
      "Testing Chips:  Chips2\n",
      "Testing Chips:  Chips3\n",
      "Chips 3 is the best chips.\n"
     ]
    }
   ],
   "source": [
    "various_chips = \"Chips1,Chips2,Chips3,Chips4\"\n",
    "for chips in various_chips.split(\",\"):\n",
    "    print (\"Testing Chips: \",chips)\n",
    "    if chips == \"Chips3\":\n",
    "        print (\"Chips 3 is the best chips.\")\n",
    "        break"
   ]
  },
  {
   "cell_type": "code",
   "execution_count": 14,
   "id": "b010e6ad",
   "metadata": {},
   "outputs": [
    {
     "name": "stdout",
     "output_type": "stream",
     "text": [
      "Testing Chips:  Chips1\n",
      "Testing Chips:  Chips3\n",
      "This chips is the best chips.\n"
     ]
    }
   ],
   "source": [
    "various_chips = \"Chips1,Chips2,Chips3,Chips4\"\n",
    "for chips in various_chips.split(\",\"):\n",
    "    if chips == \"Chips2\":\n",
    "        continue\n",
    "    else:\n",
    "        print (\"Testing Chips: \",chips)\n",
    "        if chips == \"Chips3\":\n",
    "            print (\"This chips is the best chips.\")\n",
    "            break"
   ]
  },
  {
   "cell_type": "code",
   "execution_count": 16,
   "id": "45c8786a",
   "metadata": {},
   "outputs": [
    {
     "name": "stdout",
     "output_type": "stream",
     "text": [
      "1\n",
      "2\n",
      "3\n",
      "4\n",
      "5\n",
      "6\n",
      "7\n",
      "8\n",
      "9\n",
      "10\n"
     ]
    }
   ],
   "source": [
    "for number in range(1,11):\n",
    "    print (number)"
   ]
  },
  {
   "cell_type": "code",
   "execution_count": 17,
   "id": "6d1ed985",
   "metadata": {},
   "outputs": [
    {
     "data": {
      "text/plain": [
       "'P'"
      ]
     },
     "execution_count": 17,
     "metadata": {},
     "output_type": "execute_result"
    }
   ],
   "source": [
    "mystring = \"Pythonbootcamp\"\n",
    "mystring [0]"
   ]
  },
  {
   "cell_type": "code",
   "execution_count": 18,
   "id": "daec6516",
   "metadata": {},
   "outputs": [
    {
     "name": "stdout",
     "output_type": "stream",
     "text": [
      "14\n"
     ]
    }
   ],
   "source": [
    "mystring = \"Pythonbootcamp\"\n",
    "lenght_of_mystring = len(mystring)\n",
    "print (lenght_of_mystring)"
   ]
  },
  {
   "cell_type": "code",
   "execution_count": 19,
   "id": "a3f08579",
   "metadata": {},
   "outputs": [
    {
     "name": "stdout",
     "output_type": "stream",
     "text": [
      "P\n",
      "y\n",
      "t\n",
      "h\n",
      "o\n",
      "n\n",
      "b\n",
      "o\n",
      "o\n",
      "t\n",
      "c\n",
      "a\n",
      "m\n",
      "p\n"
     ]
    }
   ],
   "source": [
    "for index_num in range(0,lenght_of_mystring):\n",
    "    print (mystring[index_num])"
   ]
  },
  {
   "cell_type": "code",
   "execution_count": 20,
   "id": "85eb5ff7",
   "metadata": {},
   "outputs": [
    {
     "name": "stdout",
     "output_type": "stream",
     "text": [
      "P\n",
      "y\n",
      "t\n",
      "h\n",
      "o\n",
      "n\n",
      "b\n",
      "o\n",
      "o\n",
      "t\n",
      "c\n",
      "a\n",
      "m\n",
      "p\n"
     ]
    }
   ],
   "source": [
    "for char in mystring:\n",
    "    print (char)"
   ]
  },
  {
   "cell_type": "code",
   "execution_count": 23,
   "id": "a435774c",
   "metadata": {},
   "outputs": [
    {
     "name": "stdout",
     "output_type": "stream",
     "text": [
      "Letter is the string  0 is P\n",
      "Letter is the string  1 is y\n",
      "Letter is the string  2 is t\n",
      "Letter is the string  3 is h\n",
      "Letter is the string  4 is o\n",
      "Letter is the string  5 is n\n",
      "Letter is the string  6 is b\n",
      "Letter is the string  7 is o\n",
      "Letter is the string  8 is o\n",
      "Letter is the string  9 is t\n",
      "Letter is the string  10 is c\n",
      "Letter is the string  11 is a\n",
      "Letter is the string  12 is m\n",
      "Letter is the string  13 is p\n"
     ]
    }
   ],
   "source": [
    "for index_num in range(0,lenght_of_mystring):\n",
    "    print (\"Letter is the string \",str(index_num),\"is\",mystring[index_num])"
   ]
  },
  {
   "cell_type": "code",
   "execution_count": 25,
   "id": "8ffba836",
   "metadata": {},
   "outputs": [
    {
     "name": "stdout",
     "output_type": "stream",
     "text": [
      "Letter is the string  0 is P\n",
      "Letter is the string  1 is y\n",
      "Letter is the string  2 is t\n",
      "Letter is the string  3 is h\n",
      "Letter is the string  4 is o\n",
      "Letter is the string  5 is n\n",
      "Letter is the string  6 is b\n",
      "Letter is the string  7 is o\n",
      "Letter is the string  8 is o\n",
      "Letter is the string  9 is t\n",
      "Letter is the string  10 is c\n",
      "Letter is the string  11 is a\n",
      "Letter is the string  12 is m\n",
      "Letter is the string  13 is p\n"
     ]
    }
   ],
   "source": [
    "mystring = \"Pythonbootcamp\"\n",
    "for position,char in enumerate (mystring):\n",
    "    print (\"Letter is the string \", str(position),\"is\", char)"
   ]
  },
  {
   "cell_type": "code",
   "execution_count": 26,
   "id": "678deb79",
   "metadata": {},
   "outputs": [
    {
     "name": "stdout",
     "output_type": "stream",
     "text": [
      "Testing Chips:  Chips1\n",
      "Testing Chips:  Chips3\n",
      "This chips is the best chips.\n",
      "C\n",
      "h\n",
      "i\n",
      "p\n",
      "s\n",
      "3\n"
     ]
    }
   ],
   "source": [
    "various_chips = \"Chips1,Chips2,Chips3,Chips4\"\n",
    "for chips in various_chips.split(\",\"):\n",
    "    if chips == \"Chips2\":\n",
    "        continue\n",
    "    else:\n",
    "        print (\"Testing Chips: \",chips)\n",
    "        if chips == \"Chips3\":\n",
    "            print (\"This chips is the best chips.\")\n",
    "            for char in chips:\n",
    "                print (char)\n",
    "            break"
   ]
  },
  {
   "cell_type": "code",
   "execution_count": 2,
   "id": "c3f2d198",
   "metadata": {},
   "outputs": [
    {
     "name": "stdout",
     "output_type": "stream",
     "text": [
      "1\n",
      "2\n",
      "3\n",
      "4\n",
      "5\n",
      "6\n",
      "7\n",
      "8\n",
      "9\n",
      "10\n",
      "11\n",
      "12\n",
      "13\n",
      "14\n",
      "15\n",
      "16\n",
      "17\n",
      "18\n",
      "19\n",
      "20\n",
      "21\n",
      "22\n",
      "23\n",
      "24\n",
      "25\n",
      "26\n",
      "27\n",
      "28\n",
      "29\n",
      "30\n",
      "31\n",
      "32\n",
      "33\n",
      "34\n",
      "35\n",
      "36\n",
      "37\n",
      "38\n",
      "39\n",
      "40\n",
      "41\n",
      "42\n",
      "43\n",
      "44\n",
      "45\n",
      "46\n",
      "47\n",
      "48\n",
      "49\n",
      "50\n"
     ]
    }
   ],
   "source": [
    "for num in range(1,51):\n",
    "    print(num)"
   ]
  },
  {
   "cell_type": "code",
   "execution_count": 4,
   "id": "6a6e81b9",
   "metadata": {},
   "outputs": [
    {
     "name": "stdout",
     "output_type": "stream",
     "text": [
      "2 is the even number\n",
      "4 is the even number\n",
      "6 is the even number\n",
      "8 is the even number\n",
      "10 is the even number\n",
      "12 is the even number\n",
      "14 is the even number\n",
      "16 is the even number\n",
      "18 is the even number\n",
      "20 is the even number\n",
      "22 is the even number\n",
      "24 is the even number\n",
      "26 is the even number\n",
      "28 is the even number\n",
      "30 is the even number\n",
      "32 is the even number\n",
      "34 is the even number\n",
      "36 is the even number\n",
      "38 is the even number\n",
      "40 is the even number\n",
      "42 is the even number\n",
      "44 is the even number\n",
      "46 is the even number\n",
      "48 is the even number\n",
      "50 is the even number\n"
     ]
    }
   ],
   "source": [
    "for num in range(1,51):\n",
    "    if num % 2 == 0:\n",
    "        print(str(num), \"is the even number\")"
   ]
  },
  {
   "cell_type": "code",
   "execution_count": 6,
   "id": "ab7d6710",
   "metadata": {},
   "outputs": [
    {
     "name": "stdout",
     "output_type": "stream",
     "text": [
      "1\n",
      "2 is the even number\n",
      "3\n",
      "4 is the even number\n",
      "5\n",
      "6 is the even number\n",
      "7\n",
      "8 is the even number\n",
      "9\n",
      "10 is the even number\n",
      "11\n",
      "12 is the even number\n",
      "13\n",
      "14 is the even number\n",
      "15\n",
      "16 is the even number\n",
      "17\n",
      "18 is the even number\n",
      "19\n",
      "20 is the even number\n",
      "21\n",
      "22 is the even number\n",
      "23\n",
      "24 is the even number\n",
      "25\n",
      "26 is the even number\n",
      "27\n",
      "28 is the even number\n",
      "29\n",
      "30 is the even number\n",
      "31\n",
      "32 is the even number\n",
      "33\n",
      "34 is the even number\n",
      "35\n",
      "36 is the even number\n",
      "37\n",
      "38 is the even number\n",
      "39\n",
      "40 is the even number\n",
      "41\n",
      "42 is the even number\n",
      "43\n",
      "44 is the even number\n",
      "45\n",
      "46 is the even number\n",
      "47\n",
      "48 is the even number\n",
      "49\n",
      "50 is the even number\n"
     ]
    }
   ],
   "source": [
    "for num in range(1,51):\n",
    "    if num % 2 == 0:\n",
    "        print(str(num), \"is the even number\")\n",
    "    else:\n",
    "        styring_num = str(num)\n",
    "        print(styring_num)\n",
    "        "
   ]
  },
  {
   "cell_type": "code",
   "execution_count": 9,
   "id": "fa4bd1fc",
   "metadata": {},
   "outputs": [
    {
     "name": "stdout",
     "output_type": "stream",
     "text": [
      "1 is the odd number\n",
      "2 is the even number\n",
      "3 is the odd number\n",
      "4 is the even number\n",
      "5 is the odd number\n",
      "6 is the even number\n",
      "7 is the odd number\n",
      "8 is the even number\n",
      "9 is the odd number\n",
      "10 is the even number\n",
      "11 is the odd number\n",
      "12 is the even number\n",
      "13 is the odd number\n",
      "14 is the even number\n",
      "15 is the odd number\n",
      "16 is the even number\n",
      "17 is the odd number\n",
      "18 is the even number\n",
      "19 is the odd number\n",
      "20 is the even number\n",
      "21 is the odd number\n",
      "22 is the even number\n",
      "23 is the odd number\n",
      "24 is the even number\n",
      "25 is the odd number\n",
      "26 is the even number\n",
      "27 is the odd number\n",
      "28 is the even number\n",
      "29 is the odd number\n",
      "30 is the even number\n",
      "31 is the odd number\n",
      "32 is the even number\n",
      "33 is the odd number\n",
      "34 is the even number\n",
      "35 is the odd number\n",
      "36 is the even number\n",
      "37 is the odd number\n",
      "38 is the even number\n",
      "39 is the odd number\n",
      "40 is the even number\n",
      "41 is the odd number\n",
      "42 is the even number\n",
      "43 is the odd number\n",
      "44 is the even number\n",
      "45 is the odd number\n",
      "46 is the even number\n",
      "47 is the odd number\n",
      "48 is the even number\n",
      "49 is the odd number\n",
      "50 is the even number\n"
     ]
    }
   ],
   "source": [
    "for num in range(1,51):\n",
    "    if num % 2 == 0:\n",
    "        print(str(num), \"is the even number\")\n",
    "    else:\n",
    "        print(str(num), \"is the odd number\")"
   ]
  },
  {
   "cell_type": "code",
   "execution_count": 10,
   "id": "861c3d23",
   "metadata": {},
   "outputs": [
    {
     "name": "stdout",
     "output_type": "stream",
     "text": [
      "1\n",
      "2 is the even number\n",
      "3\n",
      "4 is the even number\n",
      "5\n",
      "6 is the even number\n",
      "7\n",
      "8 is the even number\n",
      "9\n",
      "10 is the even number\n",
      "11\n",
      "12 is the even number\n",
      "13\n",
      "14 is the even number\n",
      "15\n",
      "16 is the even number\n",
      "17\n",
      "18 is the even number\n",
      "19\n",
      "20 is the even number\n",
      "21\n",
      "22 is the even number\n",
      "23\n",
      "24 is the even number\n",
      "25\n",
      "26 is the even number\n",
      "27\n",
      "28 is the even number\n",
      "29\n",
      "30 is the even number\n",
      "31\n",
      "32 is the even number\n",
      "33\n",
      "34 is the even number\n",
      "35\n",
      "36 is the even number\n",
      "37\n",
      "38 is the even number\n",
      "39\n",
      "40 is the even number\n",
      "41\n",
      "42 is the even number\n",
      "43\n",
      "44 is the even number\n",
      "45\n",
      "46 is the even number\n",
      "47\n",
      "48 is the even number\n",
      "49\n",
      "50 is the even number\n"
     ]
    }
   ],
   "source": [
    "for num in range(1,51):\n",
    "    if num % 2 == 0:\n",
    "        print(str(num), \"is the even number\")\n",
    "    else:\n",
    "        print(num)"
   ]
  },
  {
   "cell_type": "code",
   "execution_count": 11,
   "id": "8e41aa72",
   "metadata": {},
   "outputs": [
    {
     "name": "stdout",
     "output_type": "stream",
     "text": [
      "1\n",
      "2 is the even number\n",
      "3\n",
      "4 is the even number\n",
      "5\n",
      "6 is the even number\n",
      "7\n",
      "8 is the even number\n",
      "9\n",
      "10 is the even number\n",
      "11\n",
      "12 is the even number\n",
      "13\n",
      "14 is the even number\n",
      "15\n",
      "16 is the even number\n",
      "17\n",
      "18 is the even number\n",
      "19\n",
      "20 is the even number\n",
      "21\n",
      "22 is the even number\n",
      "23\n",
      "24 is the even number\n",
      "25\n",
      "26 is the even number\n",
      "27\n",
      "28 is the even number\n",
      "29\n",
      "30 is the even number\n",
      "31\n",
      "32 is the even number\n",
      "33\n",
      "34 is the even number\n",
      "35\n",
      "36 is the even number\n",
      "37\n",
      "38 is the even number\n",
      "39\n",
      "40 is the even number\n",
      "41\n",
      "42 is the even number\n",
      "43\n",
      "44 is the even number\n",
      "45\n",
      "46 is the even number\n",
      "47\n",
      "48 is the even number\n",
      "49\n",
      "50 is the even number\n"
     ]
    }
   ],
   "source": [
    "for num in range(1,51):\n",
    "    if num % 2 == 0:\n",
    "        print(str(num), \"is the even number\")\n",
    "    else:\n",
    "        print(str(num))"
   ]
  },
  {
   "cell_type": "code",
   "execution_count": 12,
   "id": "ad4e0522",
   "metadata": {},
   "outputs": [
    {
     "name": "stdout",
     "output_type": "stream",
     "text": [
      "1\n",
      "2 is the even number\n",
      "3\n",
      "4 is the even number\n",
      "5\n",
      "6 is the even number\n",
      "7\n",
      "8 is the even number\n",
      "9\n",
      "10 is the even number\n",
      "1\n",
      "1\n",
      "12 is the even number\n",
      "1\n",
      "3\n",
      "14 is the even number\n",
      "1\n",
      "5\n",
      "16 is the even number\n",
      "1\n",
      "7\n",
      "18 is the even number\n",
      "1\n",
      "9\n",
      "20 is the even number\n",
      "2\n",
      "1\n",
      "22 is the even number\n",
      "2\n",
      "3\n",
      "24 is the even number\n",
      "2\n",
      "5\n",
      "26 is the even number\n",
      "2\n",
      "7\n",
      "28 is the even number\n",
      "2\n",
      "9\n",
      "30 is the even number\n",
      "3\n",
      "1\n",
      "32 is the even number\n",
      "3\n",
      "3\n",
      "34 is the even number\n",
      "3\n",
      "5\n",
      "36 is the even number\n",
      "3\n",
      "7\n",
      "38 is the even number\n",
      "3\n",
      "9\n",
      "40 is the even number\n",
      "4\n",
      "1\n",
      "42 is the even number\n",
      "4\n",
      "3\n",
      "44 is the even number\n",
      "4\n",
      "5\n",
      "46 is the even number\n",
      "4\n",
      "7\n",
      "48 is the even number\n",
      "4\n",
      "9\n",
      "50 is the even number\n"
     ]
    }
   ],
   "source": [
    "for num in range(1,51):\n",
    "    if num % 2 == 0:\n",
    "        print(str(num), \"is the even number\")\n",
    "    else:\n",
    "        string_num= str(num)\n",
    "        print(string_num[0])\n",
    "        if len (string_num) > 1:\n",
    "            print (string_num[1])"
   ]
  },
  {
   "cell_type": "code",
   "execution_count": null,
   "id": "edac1a56",
   "metadata": {},
   "outputs": [],
   "source": []
  }
 ],
 "metadata": {
  "kernelspec": {
   "display_name": "Python 3",
   "language": "python",
   "name": "python3"
  },
  "language_info": {
   "codemirror_mode": {
    "name": "ipython",
    "version": 3
   },
   "file_extension": ".py",
   "mimetype": "text/x-python",
   "name": "python",
   "nbconvert_exporter": "python",
   "pygments_lexer": "ipython3",
   "version": "3.6.13"
  }
 },
 "nbformat": 4,
 "nbformat_minor": 5
}

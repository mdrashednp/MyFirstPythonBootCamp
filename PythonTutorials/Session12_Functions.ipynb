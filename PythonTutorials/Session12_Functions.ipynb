{
 "cells": [
  {
   "cell_type": "code",
   "execution_count": 1,
   "id": "1f9a0867",
   "metadata": {},
   "outputs": [
    {
     "name": "stdout",
     "output_type": "stream",
     "text": [
      "Iteration 1  [1, 2, 3]\n",
      "Iteration 2  [1, 2, 3, 4]\n",
      "Iteration 3  [1, 2, 3, 4, 5]\n"
     ]
    }
   ],
   "source": [
    "mylist = [1,2,3]\n",
    "print(\"Iteration 1 \", mylist)\n",
    "mylist.append(4)\n",
    "print(\"Iteration 2 \", mylist)\n",
    "mylist.append(5)\n",
    "print(\"Iteration 3 \", mylist)"
   ]
  },
  {
   "cell_type": "code",
   "execution_count": 2,
   "id": "b2ef8ef1",
   "metadata": {},
   "outputs": [
    {
     "name": "stdout",
     "output_type": "stream",
     "text": [
      "Round 1  [1, 2, 3]\n",
      "Round 2  [1, 2, 3, 4]\n",
      "Round 3  [1, 2, 3, 4, 5]\n"
     ]
    }
   ],
   "source": [
    "mylist = [1,2,3]\n",
    "print(\"Round 1 \", mylist)\n",
    "mylist.append(4)\n",
    "print(\"Round 2 \", mylist)\n",
    "mylist.append(5)\n",
    "print(\"Round 3 \", mylist)"
   ]
  },
  {
   "cell_type": "code",
   "execution_count": 3,
   "id": "e0e10819",
   "metadata": {},
   "outputs": [
    {
     "name": "stdout",
     "output_type": "stream",
     "text": [
      "Welcome to Python\n"
     ]
    }
   ],
   "source": [
    "print(\"Welcome to Python\")"
   ]
  },
  {
   "cell_type": "code",
   "execution_count": 7,
   "id": "34fa7837",
   "metadata": {},
   "outputs": [
    {
     "name": "stdout",
     "output_type": "stream",
     "text": [
      "Outside the Funtions\n"
     ]
    }
   ],
   "source": [
    "def greetuset():\n",
    "    print(\"Welcome to Python\")\n",
    "print(\"Outside the Funtions\")"
   ]
  },
  {
   "cell_type": "code",
   "execution_count": 8,
   "id": "08c9fca9",
   "metadata": {},
   "outputs": [
    {
     "name": "stdout",
     "output_type": "stream",
     "text": [
      "Welcome to Python\n"
     ]
    }
   ],
   "source": [
    "greetuset()"
   ]
  },
  {
   "cell_type": "code",
   "execution_count": 11,
   "id": "c00f6d0e",
   "metadata": {},
   "outputs": [],
   "source": [
    "def addnumbers(number1, number2):\n",
    "    print(\"Sum: \", number1+number2)"
   ]
  },
  {
   "cell_type": "code",
   "execution_count": 12,
   "id": "0076bbec",
   "metadata": {},
   "outputs": [
    {
     "name": "stdout",
     "output_type": "stream",
     "text": [
      "Sum:  27\n"
     ]
    }
   ],
   "source": [
    "addnumbers(15, 12)"
   ]
  },
  {
   "cell_type": "code",
   "execution_count": 13,
   "id": "4a94e595",
   "metadata": {},
   "outputs": [],
   "source": [
    "def addnumbers(number1, number2):\n",
    "    print(\"Number 1 is: \",number1)\n",
    "    print(\"Number 2 is: \",number2)\n",
    "    print(\"Sum: \", number1+number2)"
   ]
  },
  {
   "cell_type": "code",
   "execution_count": 14,
   "id": "51eaa140",
   "metadata": {},
   "outputs": [
    {
     "name": "stdout",
     "output_type": "stream",
     "text": [
      "Number 1 is:  7\n",
      "Number 2 is:  8\n",
      "Sum:  15\n"
     ]
    }
   ],
   "source": [
    "addnumbers(7, 8)"
   ]
  },
  {
   "cell_type": "code",
   "execution_count": 15,
   "id": "33d36ed0",
   "metadata": {},
   "outputs": [
    {
     "name": "stdout",
     "output_type": "stream",
     "text": [
      "Number 1 is:  8\n",
      "Number 2 is:  7\n",
      "Sum:  15\n"
     ]
    }
   ],
   "source": [
    "addnumbers(number2=7, number1=8)"
   ]
  },
  {
   "cell_type": "code",
   "execution_count": 16,
   "id": "b0126ed1",
   "metadata": {},
   "outputs": [
    {
     "name": "stdout",
     "output_type": "stream",
     "text": [
      "Number 1 is:  7\n",
      "Number 2 is:  8\n",
      "Sum:  15\n"
     ]
    }
   ],
   "source": [
    "addnumbers(number1=7, number2=8)"
   ]
  },
  {
   "cell_type": "code",
   "execution_count": 17,
   "id": "c3acd84c",
   "metadata": {},
   "outputs": [],
   "source": [
    "def addnumbers(number1, number2):\n",
    "    print(\"Number 1 is: \",number1)\n",
    "    print(\"Number 2 is: \",number2)\n",
    "    # print(\"Sum: \", number1+number2)\n",
    "    return number1+number2"
   ]
  },
  {
   "cell_type": "code",
   "execution_count": 18,
   "id": "bfc1e3b9",
   "metadata": {},
   "outputs": [
    {
     "name": "stdout",
     "output_type": "stream",
     "text": [
      "Number 1 is:  7\n",
      "Number 2 is:  8\n"
     ]
    },
    {
     "data": {
      "text/plain": [
       "15"
      ]
     },
     "execution_count": 18,
     "metadata": {},
     "output_type": "execute_result"
    }
   ],
   "source": [
    "addnumbers(number1=7, number2=8)"
   ]
  },
  {
   "cell_type": "code",
   "execution_count": 19,
   "id": "e98e144d",
   "metadata": {},
   "outputs": [
    {
     "name": "stdout",
     "output_type": "stream",
     "text": [
      "Number 1 is:  7\n",
      "Number 2 is:  8\n",
      "Sum:  15\n"
     ]
    }
   ],
   "source": [
    "Sum = addnumbers(number1=7, number2=8)\n",
    "print(\"Sum: \", Sum)"
   ]
  },
  {
   "cell_type": "code",
   "execution_count": 20,
   "id": "d0efa543",
   "metadata": {},
   "outputs": [
    {
     "data": {
      "text/plain": [
       "150"
      ]
     },
     "execution_count": 20,
     "metadata": {},
     "output_type": "execute_result"
    }
   ],
   "source": [
    "Sum * 10"
   ]
  },
  {
   "cell_type": "code",
   "execution_count": 21,
   "id": "cc36cb9e",
   "metadata": {},
   "outputs": [],
   "source": [
    "def addnumbers(number1, number2):\n",
    "    print(\"Number 1 is: \",number1)\n",
    "    print(\"Number 2 is: \",number2)\n",
    "    # print(\"Sum: \", number1+number2)\n",
    "    return number1+number2"
   ]
  },
  {
   "cell_type": "code",
   "execution_count": 22,
   "id": "52acc7b5",
   "metadata": {},
   "outputs": [
    {
     "ename": "TypeError",
     "evalue": "addnumbers() missing 1 required positional argument: 'number2'",
     "output_type": "error",
     "traceback": [
      "\u001b[1;31m---------------------------------------------------------------------------\u001b[0m",
      "\u001b[1;31mTypeError\u001b[0m                                 Traceback (most recent call last)",
      "\u001b[1;32m<ipython-input-22-20b82e0e7e91>\u001b[0m in \u001b[0;36m<module>\u001b[1;34m\u001b[0m\n\u001b[1;32m----> 1\u001b[1;33m \u001b[0maddnumbers\u001b[0m\u001b[1;33m(\u001b[0m\u001b[1;36m1\u001b[0m\u001b[1;33m)\u001b[0m\u001b[1;33m\u001b[0m\u001b[1;33m\u001b[0m\u001b[0m\n\u001b[0m",
      "\u001b[1;31mTypeError\u001b[0m: addnumbers() missing 1 required positional argument: 'number2'"
     ]
    }
   ],
   "source": [
    "addnumbers(1)"
   ]
  },
  {
   "cell_type": "code",
   "execution_count": 23,
   "id": "94ab6118",
   "metadata": {},
   "outputs": [],
   "source": [
    "def addnumbers(number1, number2):\n",
    "    print(\"Number 1 is: \",number1)\n",
    "    print(\"Number 2 is: \",number2)\n",
    "    # print(\"Sum: \", number1+number2)\n",
    "    return number1+number2"
   ]
  },
  {
   "cell_type": "code",
   "execution_count": 24,
   "id": "03ae7814",
   "metadata": {},
   "outputs": [
    {
     "ename": "TypeError",
     "evalue": "addnumbers() missing 1 required positional argument: 'number2'",
     "output_type": "error",
     "traceback": [
      "\u001b[1;31m---------------------------------------------------------------------------\u001b[0m",
      "\u001b[1;31mTypeError\u001b[0m                                 Traceback (most recent call last)",
      "\u001b[1;32m<ipython-input-24-bf7451c8162c>\u001b[0m in \u001b[0;36m<module>\u001b[1;34m\u001b[0m\n\u001b[1;32m----> 1\u001b[1;33m \u001b[0mSum\u001b[0m \u001b[1;33m=\u001b[0m \u001b[0maddnumbers\u001b[0m\u001b[1;33m(\u001b[0m\u001b[0mnumber1\u001b[0m\u001b[1;33m=\u001b[0m\u001b[1;36m7\u001b[0m\u001b[1;33m)\u001b[0m\u001b[1;33m\u001b[0m\u001b[1;33m\u001b[0m\u001b[0m\n\u001b[0m\u001b[0;32m      2\u001b[0m \u001b[0mprint\u001b[0m\u001b[1;33m(\u001b[0m\u001b[1;34m\"Sum: \"\u001b[0m\u001b[1;33m,\u001b[0m \u001b[0mSum\u001b[0m\u001b[1;33m)\u001b[0m\u001b[1;33m\u001b[0m\u001b[1;33m\u001b[0m\u001b[0m\n",
      "\u001b[1;31mTypeError\u001b[0m: addnumbers() missing 1 required positional argument: 'number2'"
     ]
    }
   ],
   "source": [
    "Sum = addnumbers(number1=7)\n",
    "print(\"Sum: \", Sum)"
   ]
  },
  {
   "cell_type": "code",
   "execution_count": 25,
   "id": "c13229f9",
   "metadata": {},
   "outputs": [],
   "source": [
    "def addnumbers(number1, number2 = 0):\n",
    "    print(\"Number 1 is: \",number1)\n",
    "    print(\"Number 2 is: \",number2)\n",
    "    # print(\"Sum: \", number1+number2)\n",
    "    return number1+number2"
   ]
  },
  {
   "cell_type": "code",
   "execution_count": 26,
   "id": "41e6880d",
   "metadata": {},
   "outputs": [
    {
     "name": "stdout",
     "output_type": "stream",
     "text": [
      "Number 1 is:  7\n",
      "Number 2 is:  0\n",
      "Sum:  7\n"
     ]
    }
   ],
   "source": [
    "Sum = addnumbers(number1=7)\n",
    "print(\"Sum: \", Sum)"
   ]
  },
  {
   "cell_type": "code",
   "execution_count": 27,
   "id": "1b13448b",
   "metadata": {},
   "outputs": [
    {
     "name": "stdout",
     "output_type": "stream",
     "text": [
      "Number 1 is:  7\n",
      "Number 2 is:  8\n",
      "Sum:  15\n"
     ]
    }
   ],
   "source": [
    "Sum = addnumbers(number1=7, number2=8)\n",
    "print(\"Sum: \", Sum)number1=7, number2=8"
   ]
  },
  {
   "cell_type": "code",
   "execution_count": 28,
   "id": "a99a219e",
   "metadata": {},
   "outputs": [
    {
     "ename": "IndentationError",
     "evalue": "expected an indented block (<ipython-input-28-17f1b9d48e5e>, line 2)",
     "output_type": "error",
     "traceback": [
      "\u001b[1;36m  File \u001b[1;32m\"<ipython-input-28-17f1b9d48e5e>\"\u001b[1;36m, line \u001b[1;32m2\u001b[0m\n\u001b[1;33m    x = 2\u001b[0m\n\u001b[1;37m    ^\u001b[0m\n\u001b[1;31mIndentationError\u001b[0m\u001b[1;31m:\u001b[0m expected an indented block\n"
     ]
    }
   ],
   "source": [
    "def addnumbers(number1, number2 = 0):\n",
    "x = 2"
   ]
  },
  {
   "cell_type": "code",
   "execution_count": 29,
   "id": "6c2324ae",
   "metadata": {},
   "outputs": [],
   "source": [
    "def addnumbers(number1, number2 = 0):\n",
    "    pass\n",
    "x = 2"
   ]
  },
  {
   "cell_type": "code",
   "execution_count": 31,
   "id": "4716c141",
   "metadata": {},
   "outputs": [
    {
     "name": "stdout",
     "output_type": "stream",
     "text": [
      "0\n"
     ]
    }
   ],
   "source": [
    "########## *args ##########\n",
    "def addnumbers(*NameList):\n",
    "    print(len(NameList))\n",
    "addnumbers()"
   ]
  },
  {
   "cell_type": "code",
   "execution_count": 32,
   "id": "adc6e09d",
   "metadata": {},
   "outputs": [
    {
     "name": "stdout",
     "output_type": "stream",
     "text": [
      "4\n"
     ]
    }
   ],
   "source": [
    "def addnumbers(*NameList):\n",
    "    print(len(NameList))\n",
    "addnumbers(1,2,3,4)"
   ]
  },
  {
   "cell_type": "code",
   "execution_count": 33,
   "id": "539b2e37",
   "metadata": {},
   "outputs": [
    {
     "name": "stdout",
     "output_type": "stream",
     "text": [
      "<class 'tuple'>\n",
      "0\n"
     ]
    }
   ],
   "source": [
    "def addnumbers(*NameList):\n",
    "    print(type(NameList))\n",
    "    print(len(NameList))\n",
    "addnumbers()"
   ]
  },
  {
   "cell_type": "code",
   "execution_count": 34,
   "id": "de97bd37",
   "metadata": {},
   "outputs": [
    {
     "name": "stdout",
     "output_type": "stream",
     "text": [
      "<class 'tuple'>\n",
      "4\n"
     ]
    }
   ],
   "source": [
    "def addnumbers(*NameList):\n",
    "    print(type(NameList))\n",
    "    print(len(NameList))\n",
    "addnumbers(1,2,3,4)"
   ]
  },
  {
   "cell_type": "code",
   "execution_count": 36,
   "id": "1d02576c",
   "metadata": {},
   "outputs": [
    {
     "name": "stdout",
     "output_type": "stream",
     "text": [
      "1\n",
      "2\n",
      "3\n",
      "4\n"
     ]
    }
   ],
   "source": [
    "def addnumbers(*NameList):\n",
    "    for item in NameList:\n",
    "        print(item)\n",
    "addnumbers(1,2,3,4)"
   ]
  },
  {
   "cell_type": "code",
   "execution_count": 37,
   "id": "1ea7969c",
   "metadata": {},
   "outputs": [
    {
     "name": "stdout",
     "output_type": "stream",
     "text": [
      "<class 'dict'>\n"
     ]
    }
   ],
   "source": [
    "######## **kwargs ########\n",
    "def addnumbers(**NameDict):\n",
    "    print(type(NameDict))\n",
    "addnumbers(number1=7, number2=8)"
   ]
  },
  {
   "cell_type": "code",
   "execution_count": 38,
   "id": "4244171c",
   "metadata": {},
   "outputs": [
    {
     "name": "stdout",
     "output_type": "stream",
     "text": [
      "<class 'dict'>\n",
      "dict_keys(['number1', 'number2'])\n"
     ]
    }
   ],
   "source": [
    "def addnumbers(**NameDict):\n",
    "    print(type(NameDict))\n",
    "    print(NameDict.keys())\n",
    "addnumbers(number1=7, number2=8)"
   ]
  },
  {
   "cell_type": "code",
   "execution_count": 39,
   "id": "eecec0e9",
   "metadata": {},
   "outputs": [
    {
     "name": "stdout",
     "output_type": "stream",
     "text": [
      "<class 'dict'>\n",
      "dict_keys(['number1', 'number2'])\n",
      "8\n"
     ]
    }
   ],
   "source": [
    "def addnumbers(**NameDict):\n",
    "    print(type(NameDict))\n",
    "    print(NameDict.keys())\n",
    "    print(NameDict[\"number2\"])\n",
    "addnumbers(number1=7, number2=8)"
   ]
  },
  {
   "cell_type": "code",
   "execution_count": 40,
   "id": "9287908f",
   "metadata": {},
   "outputs": [
    {
     "name": "stdout",
     "output_type": "stream",
     "text": [
      "<class 'dict'>\n",
      "dict_keys(['number1', 'number2', 'number3'])\n",
      "10\n"
     ]
    }
   ],
   "source": [
    "def addnumbers(**NameDict):\n",
    "    print(type(NameDict))\n",
    "    print(NameDict.keys())\n",
    "    print(NameDict[\"number3\"])\n",
    "addnumbers(number1=7, number2=8, number3=10)"
   ]
  },
  {
   "cell_type": "code",
   "execution_count": 44,
   "id": "01ce3fc5",
   "metadata": {},
   "outputs": [
    {
     "name": "stdout",
     "output_type": "stream",
     "text": [
      "Numbers of Odd is:  7\n",
      "Numbers of Even is:  8\n"
     ]
    }
   ],
   "source": [
    "def OddEvenFuntions(mylist):\n",
    "    count_odd = 0\n",
    "    count_even = 0\n",
    "    for item in mylist:\n",
    "        if item % 2 == 0:\n",
    "            count_even = count_even + 1\n",
    "        else:\n",
    "            count_odd = count_odd + 1\n",
    "    print(\"Numbers of Odd is: \", count_odd)\n",
    "    print(\"Numbers of Even is: \", count_even)\n",
    "OddEvenFuntions([2,5,8,9,13,16,20,22,34,45,55,67,88,123,1650])"
   ]
  },
  {
   "cell_type": "code",
   "execution_count": null,
   "id": "6983a3eb",
   "metadata": {},
   "outputs": [],
   "source": []
  }
 ],
 "metadata": {
  "kernelspec": {
   "display_name": "Python 3",
   "language": "python",
   "name": "python3"
  },
  "language_info": {
   "codemirror_mode": {
    "name": "ipython",
    "version": 3
   },
   "file_extension": ".py",
   "mimetype": "text/x-python",
   "name": "python",
   "nbconvert_exporter": "python",
   "pygments_lexer": "ipython3",
   "version": "3.6.13"
  }
 },
 "nbformat": 4,
 "nbformat_minor": 5
}

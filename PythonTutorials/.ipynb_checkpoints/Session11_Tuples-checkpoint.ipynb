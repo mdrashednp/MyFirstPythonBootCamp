{
 "cells": [
  {
   "cell_type": "code",
   "execution_count": 1,
   "id": "c5d6ccfe",
   "metadata": {},
   "outputs": [
    {
     "data": {
      "text/plain": [
       "str"
      ]
     },
     "execution_count": 1,
     "metadata": {},
     "output_type": "execute_result"
    }
   ],
   "source": [
    "mytuples = (\"Mr.\")\n",
    "type(mytuples)"
   ]
  },
  {
   "cell_type": "code",
   "execution_count": 2,
   "id": "21e01dab",
   "metadata": {},
   "outputs": [
    {
     "data": {
      "text/plain": [
       "tuple"
      ]
     },
     "execution_count": 2,
     "metadata": {},
     "output_type": "execute_result"
    }
   ],
   "source": [
    "mytuples = (\"Mr.\",)\n",
    "type(mytuples)"
   ]
  },
  {
   "cell_type": "code",
   "execution_count": 3,
   "id": "36996c0f",
   "metadata": {},
   "outputs": [],
   "source": [
    "### Syntex= 1st braket & comma. Tuples has no add/remove function. This datatype values are fixed.###"
   ]
  },
  {
   "cell_type": "code",
   "execution_count": 4,
   "id": "19e868ce",
   "metadata": {},
   "outputs": [
    {
     "data": {
      "text/plain": [
       "1"
      ]
     },
     "execution_count": 4,
     "metadata": {},
     "output_type": "execute_result"
    }
   ],
   "source": [
    "len (mytuples)"
   ]
  },
  {
   "cell_type": "code",
   "execution_count": 5,
   "id": "c797a92a",
   "metadata": {},
   "outputs": [
    {
     "data": {
      "text/plain": [
       "('Ctg', 'Dhaka', 'Khulna', 'Shylet')"
      ]
     },
     "execution_count": 5,
     "metadata": {},
     "output_type": "execute_result"
    }
   ],
   "source": [
    "mytuples = (\"Ctg\", \"Dhaka\", \"Khulna\", \"Shylet\")\n",
    "mytuples"
   ]
  },
  {
   "cell_type": "code",
   "execution_count": 6,
   "id": "4456d151",
   "metadata": {},
   "outputs": [
    {
     "data": {
      "text/plain": [
       "4"
      ]
     },
     "execution_count": 6,
     "metadata": {},
     "output_type": "execute_result"
    }
   ],
   "source": [
    "len (mytuples)"
   ]
  },
  {
   "cell_type": "code",
   "execution_count": 10,
   "id": "7cfcbf18",
   "metadata": {},
   "outputs": [
    {
     "name": "stdout",
     "output_type": "stream",
     "text": [
      "Ctg\n",
      "Dhaka\n",
      "Khulna\n",
      "Shylet\n"
     ]
    }
   ],
   "source": [
    "for item in mytuples:\n",
    "    print(item)"
   ]
  },
  {
   "cell_type": "code",
   "execution_count": 9,
   "id": "014631dc",
   "metadata": {},
   "outputs": [
    {
     "data": {
      "text/plain": [
       "'Ctg'"
      ]
     },
     "execution_count": 9,
     "metadata": {},
     "output_type": "execute_result"
    }
   ],
   "source": [
    "mytuples[0]"
   ]
  },
  {
   "cell_type": "code",
   "execution_count": 11,
   "id": "3eab2173",
   "metadata": {},
   "outputs": [
    {
     "data": {
      "text/plain": [
       "'Shylet'"
      ]
     },
     "execution_count": 11,
     "metadata": {},
     "output_type": "execute_result"
    }
   ],
   "source": [
    "mytuples[-1]"
   ]
  },
  {
   "cell_type": "code",
   "execution_count": 13,
   "id": "0b586287",
   "metadata": {},
   "outputs": [
    {
     "data": {
      "text/plain": [
       "('Ctg', 'Dhaka')"
      ]
     },
     "execution_count": 13,
     "metadata": {},
     "output_type": "execute_result"
    }
   ],
   "source": [
    "mytuples[0:2]"
   ]
  },
  {
   "cell_type": "code",
   "execution_count": null,
   "id": "66402db3",
   "metadata": {},
   "outputs": [],
   "source": []
  }
 ],
 "metadata": {
  "kernelspec": {
   "display_name": "Python 3",
   "language": "python",
   "name": "python3"
  },
  "language_info": {
   "codemirror_mode": {
    "name": "ipython",
    "version": 3
   },
   "file_extension": ".py",
   "mimetype": "text/x-python",
   "name": "python",
   "nbconvert_exporter": "python",
   "pygments_lexer": "ipython3",
   "version": "3.6.13"
  }
 },
 "nbformat": 4,
 "nbformat_minor": 5
}

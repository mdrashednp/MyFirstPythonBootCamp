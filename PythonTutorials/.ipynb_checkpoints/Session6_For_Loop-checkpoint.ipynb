{
 "cells": [
  {
   "cell_type": "code",
   "execution_count": 6,
   "id": "ffea1455",
   "metadata": {},
   "outputs": [
    {
     "name": "stdout",
     "output_type": "stream",
     "text": [
      "Chips1,Chips2,Chips3,Chips4\n"
     ]
    }
   ],
   "source": [
    "various_chips = \"Chips1,Chips2,Chips3,Chips4\"\n",
    "for chips in various_chips.split():\n",
    "    print (chips)"
   ]
  },
  {
   "cell_type": "code",
   "execution_count": 7,
   "id": "804055df",
   "metadata": {},
   "outputs": [
    {
     "name": "stdout",
     "output_type": "stream",
     "text": [
      "Chips1\n",
      "Chips2\n",
      "Chips3\n",
      "Chips4\n"
     ]
    }
   ],
   "source": [
    "various_chips = \"Chips1,Chips2,Chips3,Chips4\"\n",
    "for chips in various_chips.split(\",\"):\n",
    "    print (chips)"
   ]
  },
  {
   "cell_type": "code",
   "execution_count": 12,
   "id": "dfdd26b3",
   "metadata": {},
   "outputs": [
    {
     "name": "stdout",
     "output_type": "stream",
     "text": [
      "Testing Chips:  Chips1\n",
      "Testing Chips:  Chips2\n",
      "Testing Chips:  Chips3\n",
      "Chips 3 is the best chips.\n"
     ]
    }
   ],
   "source": [
    "various_chips = \"Chips1,Chips2,Chips3,Chips4\"\n",
    "for chips in various_chips.split(\",\"):\n",
    "    print (\"Testing Chips: \",chips)\n",
    "    if chips == \"Chips3\":\n",
    "        print (\"Chips 3 is the best chips.\")\n",
    "        break"
   ]
  },
  {
   "cell_type": "code",
   "execution_count": 14,
   "id": "b010e6ad",
   "metadata": {},
   "outputs": [
    {
     "name": "stdout",
     "output_type": "stream",
     "text": [
      "Testing Chips:  Chips1\n",
      "Testing Chips:  Chips3\n",
      "This chips is the best chips.\n"
     ]
    }
   ],
   "source": [
    "various_chips = \"Chips1,Chips2,Chips3,Chips4\"\n",
    "for chips in various_chips.split(\",\"):\n",
    "    if chips == \"Chips2\":\n",
    "        continue\n",
    "    else:\n",
    "        print (\"Testing Chips: \",chips)\n",
    "        if chips == \"Chips3\":\n",
    "            print (\"This chips is the best chips.\")\n",
    "            break"
   ]
  },
  {
   "cell_type": "code",
   "execution_count": 16,
   "id": "45c8786a",
   "metadata": {},
   "outputs": [
    {
     "name": "stdout",
     "output_type": "stream",
     "text": [
      "1\n",
      "2\n",
      "3\n",
      "4\n",
      "5\n",
      "6\n",
      "7\n",
      "8\n",
      "9\n",
      "10\n"
     ]
    }
   ],
   "source": [
    "for number in range(1,11):\n",
    "    print (number)"
   ]
  },
  {
   "cell_type": "code",
   "execution_count": 17,
   "id": "6d1ed985",
   "metadata": {},
   "outputs": [
    {
     "data": {
      "text/plain": [
       "'P'"
      ]
     },
     "execution_count": 17,
     "metadata": {},
     "output_type": "execute_result"
    }
   ],
   "source": [
    "mystring = \"Pythonbootcamp\"\n",
    "mystring [0]"
   ]
  },
  {
   "cell_type": "code",
   "execution_count": 18,
   "id": "daec6516",
   "metadata": {},
   "outputs": [
    {
     "name": "stdout",
     "output_type": "stream",
     "text": [
      "14\n"
     ]
    }
   ],
   "source": [
    "mystring = \"Pythonbootcamp\"\n",
    "lenght_of_mystring = len(mystring)\n",
    "print (lenght_of_mystring)"
   ]
  },
  {
   "cell_type": "code",
   "execution_count": 19,
   "id": "a3f08579",
   "metadata": {},
   "outputs": [
    {
     "name": "stdout",
     "output_type": "stream",
     "text": [
      "P\n",
      "y\n",
      "t\n",
      "h\n",
      "o\n",
      "n\n",
      "b\n",
      "o\n",
      "o\n",
      "t\n",
      "c\n",
      "a\n",
      "m\n",
      "p\n"
     ]
    }
   ],
   "source": [
    "for index_num in range(0,lenght_of_mystring):\n",
    "    print (mystring[index_num])"
   ]
  },
  {
   "cell_type": "code",
   "execution_count": 20,
   "id": "85eb5ff7",
   "metadata": {},
   "outputs": [
    {
     "name": "stdout",
     "output_type": "stream",
     "text": [
      "P\n",
      "y\n",
      "t\n",
      "h\n",
      "o\n",
      "n\n",
      "b\n",
      "o\n",
      "o\n",
      "t\n",
      "c\n",
      "a\n",
      "m\n",
      "p\n"
     ]
    }
   ],
   "source": [
    "for char in mystring:\n",
    "    print (char)"
   ]
  },
  {
   "cell_type": "code",
   "execution_count": 23,
   "id": "a435774c",
   "metadata": {},
   "outputs": [
    {
     "name": "stdout",
     "output_type": "stream",
     "text": [
      "Letter is the string  0 is P\n",
      "Letter is the string  1 is y\n",
      "Letter is the string  2 is t\n",
      "Letter is the string  3 is h\n",
      "Letter is the string  4 is o\n",
      "Letter is the string  5 is n\n",
      "Letter is the string  6 is b\n",
      "Letter is the string  7 is o\n",
      "Letter is the string  8 is o\n",
      "Letter is the string  9 is t\n",
      "Letter is the string  10 is c\n",
      "Letter is the string  11 is a\n",
      "Letter is the string  12 is m\n",
      "Letter is the string  13 is p\n"
     ]
    }
   ],
   "source": [
    "for index_num in range(0,lenght_of_mystring):\n",
    "    print (\"Letter is the string \",str(index_num),\"is\",mystring[index_num])"
   ]
  },
  {
   "cell_type": "code",
   "execution_count": 25,
   "id": "8ffba836",
   "metadata": {},
   "outputs": [
    {
     "name": "stdout",
     "output_type": "stream",
     "text": [
      "Letter is the string  0 is P\n",
      "Letter is the string  1 is y\n",
      "Letter is the string  2 is t\n",
      "Letter is the string  3 is h\n",
      "Letter is the string  4 is o\n",
      "Letter is the string  5 is n\n",
      "Letter is the string  6 is b\n",
      "Letter is the string  7 is o\n",
      "Letter is the string  8 is o\n",
      "Letter is the string  9 is t\n",
      "Letter is the string  10 is c\n",
      "Letter is the string  11 is a\n",
      "Letter is the string  12 is m\n",
      "Letter is the string  13 is p\n"
     ]
    }
   ],
   "source": [
    "mystring = \"Pythonbootcamp\"\n",
    "for position,char in enumerate (mystring):\n",
    "    print (\"Letter is the string \", str(position),\"is\", char)"
   ]
  },
  {
   "cell_type": "code",
   "execution_count": 26,
   "id": "678deb79",
   "metadata": {},
   "outputs": [
    {
     "name": "stdout",
     "output_type": "stream",
     "text": [
      "Testing Chips:  Chips1\n",
      "Testing Chips:  Chips3\n",
      "This chips is the best chips.\n",
      "C\n",
      "h\n",
      "i\n",
      "p\n",
      "s\n",
      "3\n"
     ]
    }
   ],
   "source": [
    "various_chips = \"Chips1,Chips2,Chips3,Chips4\"\n",
    "for chips in various_chips.split(\",\"):\n",
    "    if chips == \"Chips2\":\n",
    "        continue\n",
    "    else:\n",
    "        print (\"Testing Chips: \",chips)\n",
    "        if chips == \"Chips3\":\n",
    "            print (\"This chips is the best chips.\")\n",
    "            for char in chips:\n",
    "                print (char)\n",
    "            break"
   ]
  },
  {
   "cell_type": "code",
   "execution_count": null,
   "id": "c3f2d198",
   "metadata": {},
   "outputs": [],
   "source": []
  }
 ],
 "metadata": {
  "kernelspec": {
   "display_name": "Python 3",
   "language": "python",
   "name": "python3"
  },
  "language_info": {
   "codemirror_mode": {
    "name": "ipython",
    "version": 3
   },
   "file_extension": ".py",
   "mimetype": "text/x-python",
   "name": "python",
   "nbconvert_exporter": "python",
   "pygments_lexer": "ipython3",
   "version": "3.6.13"
  }
 },
 "nbformat": 4,
 "nbformat_minor": 5
}

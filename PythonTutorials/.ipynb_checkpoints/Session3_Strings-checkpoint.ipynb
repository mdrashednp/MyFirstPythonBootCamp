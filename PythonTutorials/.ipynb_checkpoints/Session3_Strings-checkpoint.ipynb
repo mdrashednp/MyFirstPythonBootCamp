{
 "cells": [
  {
   "cell_type": "code",
   "execution_count": null,
   "id": "7f8fa63b",
   "metadata": {},
   "outputs": [],
   "source": [
    "myvar = \"a\""
   ]
  },
  {
   "cell_type": "code",
   "execution_count": null,
   "id": "83a93e9b",
   "metadata": {},
   "outputs": [],
   "source": [
    "type(myvar)"
   ]
  },
  {
   "cell_type": "code",
   "execution_count": 1,
   "id": "9a7fad48",
   "metadata": {},
   "outputs": [],
   "source": [
    "myvar = \"BD\""
   ]
  },
  {
   "cell_type": "code",
   "execution_count": 2,
   "id": "7842d0ec",
   "metadata": {},
   "outputs": [
    {
     "data": {
      "text/plain": [
       "'BD'"
      ]
     },
     "execution_count": 2,
     "metadata": {},
     "output_type": "execute_result"
    }
   ],
   "source": [
    "myvar"
   ]
  },
  {
   "cell_type": "code",
   "execution_count": 3,
   "id": "b31c0962",
   "metadata": {},
   "outputs": [
    {
     "name": "stdout",
     "output_type": "stream",
     "text": [
      "Enter first number: 6\n"
     ]
    }
   ],
   "source": [
    "myvar = input(\"Enter first number: \")"
   ]
  },
  {
   "cell_type": "code",
   "execution_count": 4,
   "id": "122e300c",
   "metadata": {},
   "outputs": [
    {
     "data": {
      "text/plain": [
       "'6'"
      ]
     },
     "execution_count": 4,
     "metadata": {},
     "output_type": "execute_result"
    }
   ],
   "source": [
    "myvar"
   ]
  },
  {
   "cell_type": "code",
   "execution_count": 5,
   "id": "062a923b",
   "metadata": {},
   "outputs": [
    {
     "data": {
      "text/plain": [
       "14"
      ]
     },
     "execution_count": 5,
     "metadata": {},
     "output_type": "execute_result"
    }
   ],
   "source": [
    "int (myvar)+8"
   ]
  },
  {
   "cell_type": "code",
   "execution_count": 6,
   "id": "9d8d4dc1",
   "metadata": {},
   "outputs": [
    {
     "data": {
      "text/plain": [
       "'14'"
      ]
     },
     "execution_count": 6,
     "metadata": {},
     "output_type": "execute_result"
    }
   ],
   "source": [
    "str (int (myvar)+8)"
   ]
  },
  {
   "cell_type": "code",
   "execution_count": 7,
   "id": "d6e783a0",
   "metadata": {},
   "outputs": [
    {
     "name": "stdout",
     "output_type": "stream",
     "text": [
      "Welcome to my python tutorials\n"
     ]
    }
   ],
   "source": [
    "print (\"Welcome to my python tutorials\")"
   ]
  },
  {
   "cell_type": "code",
   "execution_count": 8,
   "id": "4fdc134b",
   "metadata": {},
   "outputs": [
    {
     "name": "stdout",
     "output_type": "stream",
     "text": [
      "Welcome, to my python tutorials\n"
     ]
    }
   ],
   "source": [
    "print(\"Welcome, to my python tutorials\")"
   ]
  },
  {
   "cell_type": "code",
   "execution_count": 9,
   "id": "6c8786d7",
   "metadata": {},
   "outputs": [
    {
     "name": "stdout",
     "output_type": "stream",
     "text": [
      "Welcome to my python tutorials\n"
     ]
    }
   ],
   "source": [
    "print(\"Welcome\", \"to my python tutorials\")"
   ]
  },
  {
   "cell_type": "code",
   "execution_count": 10,
   "id": "88b181a4",
   "metadata": {},
   "outputs": [
    {
     "name": "stdout",
     "output_type": "stream",
     "text": [
      "\n",
      "Welcome\n",
      "TO\n",
      "MY Python Tutorials\n",
      "\n"
     ]
    }
   ],
   "source": [
    "myvar = \"\"\"\n",
    "Welcome\n",
    "TO\n",
    "MY Python Tutorials\n",
    "\"\"\"\n",
    "print(myvar)"
   ]
  },
  {
   "cell_type": "code",
   "execution_count": 11,
   "id": "5b58ae69",
   "metadata": {},
   "outputs": [
    {
     "name": "stdout",
     "output_type": "stream",
     "text": [
      "\n",
      "Welcome\n",
      "TO\n",
      "\n",
      "MY Python Tutorials\n",
      "\n"
     ]
    }
   ],
   "source": [
    "myvar = \"\"\"\n",
    "Welcome\n",
    "TO\n",
    "\n",
    "MY Python Tutorials\n",
    "\"\"\"\n",
    "print(myvar)"
   ]
  },
  {
   "cell_type": "code",
   "execution_count": 12,
   "id": "449f862f",
   "metadata": {},
   "outputs": [
    {
     "data": {
      "text/plain": [
       "'\\nThis is a comment\\n'"
      ]
     },
     "execution_count": 12,
     "metadata": {},
     "output_type": "execute_result"
    }
   ],
   "source": [
    "# This is comment\n",
    "\"\"\"\n",
    "This is a comment\n",
    "\"\"\""
   ]
  },
  {
   "cell_type": "code",
   "execution_count": 13,
   "id": "b4d4f038",
   "metadata": {},
   "outputs": [],
   "source": [
    "myvar = \"I love Bd\""
   ]
  },
  {
   "cell_type": "code",
   "execution_count": 14,
   "id": "f6673d6b",
   "metadata": {},
   "outputs": [
    {
     "data": {
      "text/plain": [
       "'I love Bd'"
      ]
     },
     "execution_count": 14,
     "metadata": {},
     "output_type": "execute_result"
    }
   ],
   "source": [
    "myvar"
   ]
  },
  {
   "cell_type": "code",
   "execution_count": 15,
   "id": "5f8d0fe6",
   "metadata": {},
   "outputs": [
    {
     "data": {
      "text/plain": [
       "' '"
      ]
     },
     "execution_count": 15,
     "metadata": {},
     "output_type": "execute_result"
    }
   ],
   "source": [
    "myvar[1]"
   ]
  },
  {
   "cell_type": "code",
   "execution_count": 16,
   "id": "ffa21ced",
   "metadata": {},
   "outputs": [
    {
     "data": {
      "text/plain": [
       "'l'"
      ]
     },
     "execution_count": 16,
     "metadata": {},
     "output_type": "execute_result"
    }
   ],
   "source": [
    "myvar[2]"
   ]
  },
  {
   "cell_type": "code",
   "execution_count": 17,
   "id": "4867ec93",
   "metadata": {},
   "outputs": [
    {
     "data": {
      "text/plain": [
       "'o'"
      ]
     },
     "execution_count": 17,
     "metadata": {},
     "output_type": "execute_result"
    }
   ],
   "source": [
    "myvar[3]"
   ]
  },
  {
   "cell_type": "code",
   "execution_count": 18,
   "id": "da0aa080",
   "metadata": {},
   "outputs": [
    {
     "data": {
      "text/plain": [
       "'I lov'"
      ]
     },
     "execution_count": 18,
     "metadata": {},
     "output_type": "execute_result"
    }
   ],
   "source": [
    "myvar[0:5]"
   ]
  },
  {
   "cell_type": "code",
   "execution_count": 19,
   "id": "fcde1ee1",
   "metadata": {},
   "outputs": [
    {
     "data": {
      "text/plain": [
       "'I love'"
      ]
     },
     "execution_count": 19,
     "metadata": {},
     "output_type": "execute_result"
    }
   ],
   "source": [
    "myvar[0:6]"
   ]
  },
  {
   "cell_type": "code",
   "execution_count": 20,
   "id": "ecb4e714",
   "metadata": {},
   "outputs": [
    {
     "data": {
      "text/plain": [
       "'d'"
      ]
     },
     "execution_count": 20,
     "metadata": {},
     "output_type": "execute_result"
    }
   ],
   "source": [
    "myvar[-1]"
   ]
  },
  {
   "cell_type": "code",
   "execution_count": 30,
   "id": "d19e84dc",
   "metadata": {},
   "outputs": [
    {
     "data": {
      "text/plain": [
       "' love B'"
      ]
     },
     "execution_count": 30,
     "metadata": {},
     "output_type": "execute_result"
    }
   ],
   "source": [
    "myvar[-8:-1]"
   ]
  },
  {
   "cell_type": "code",
   "execution_count": 32,
   "id": "d7125c8b",
   "metadata": {},
   "outputs": [
    {
     "data": {
      "text/plain": [
       "'love'"
      ]
     },
     "execution_count": 32,
     "metadata": {},
     "output_type": "execute_result"
    }
   ],
   "source": [
    "myvar[2:6]"
   ]
  },
  {
   "cell_type": "code",
   "execution_count": 33,
   "id": "443c4433",
   "metadata": {},
   "outputs": [
    {
     "data": {
      "text/plain": [
       "9"
      ]
     },
     "execution_count": 33,
     "metadata": {},
     "output_type": "execute_result"
    }
   ],
   "source": [
    "len(myvar)"
   ]
  },
  {
   "cell_type": "code",
   "execution_count": 37,
   "id": "2cfcbd5a",
   "metadata": {},
   "outputs": [],
   "source": [
    "myvar = \" I love Bd     \""
   ]
  },
  {
   "cell_type": "code",
   "execution_count": 42,
   "id": "74be7e79",
   "metadata": {},
   "outputs": [
    {
     "data": {
      "text/plain": [
       "'I love Bd     .'"
      ]
     },
     "execution_count": 42,
     "metadata": {},
     "output_type": "execute_result"
    }
   ],
   "source": [
    "myvar"
   ]
  },
  {
   "cell_type": "code",
   "execution_count": 44,
   "id": "39013367",
   "metadata": {},
   "outputs": [
    {
     "data": {
      "text/plain": [
       "'I love Bd     .'"
      ]
     },
     "execution_count": 44,
     "metadata": {},
     "output_type": "execute_result"
    }
   ],
   "source": [
    "myvar.strip()"
   ]
  },
  {
   "cell_type": "code",
   "execution_count": 45,
   "id": "6ac7c30f",
   "metadata": {},
   "outputs": [
    {
     "data": {
      "text/plain": [
       "'i love bd     .'"
      ]
     },
     "execution_count": 45,
     "metadata": {},
     "output_type": "execute_result"
    }
   ],
   "source": [
    "myvar.lower()"
   ]
  },
  {
   "cell_type": "code",
   "execution_count": 47,
   "id": "0b5719a9",
   "metadata": {},
   "outputs": [
    {
     "data": {
      "text/plain": [
       "'i love bd     .'"
      ]
     },
     "execution_count": 47,
     "metadata": {},
     "output_type": "execute_result"
    }
   ],
   "source": [
    "myvar.lower().strip()"
   ]
  },
  {
   "cell_type": "code",
   "execution_count": 48,
   "id": "a3d42ed4",
   "metadata": {},
   "outputs": [
    {
     "data": {
      "text/plain": [
       "'I LOVE BD     .'"
      ]
     },
     "execution_count": 48,
     "metadata": {},
     "output_type": "execute_result"
    }
   ],
   "source": [
    "myvar.upper().strip()"
   ]
  },
  {
   "cell_type": "code",
   "execution_count": 49,
   "id": "dfc10ae6",
   "metadata": {},
   "outputs": [
    {
     "data": {
      "text/plain": [
       "'I like Bd     .'"
      ]
     },
     "execution_count": 49,
     "metadata": {},
     "output_type": "execute_result"
    }
   ],
   "source": [
    "myvar.replace(\"love\",\"like\")"
   ]
  },
  {
   "cell_type": "code",
   "execution_count": 50,
   "id": "dfc81fe9",
   "metadata": {},
   "outputs": [
    {
     "data": {
      "text/plain": [
       "'I like Bd     .'"
      ]
     },
     "execution_count": 50,
     "metadata": {},
     "output_type": "execute_result"
    }
   ],
   "source": [
    "myvar.replace(\"love\",\"like\").strip()"
   ]
  },
  {
   "cell_type": "code",
   "execution_count": 51,
   "id": "4ecc320a",
   "metadata": {},
   "outputs": [
    {
     "data": {
      "text/plain": [
       "['I', 'love', 'Bd', '.']"
      ]
     },
     "execution_count": 51,
     "metadata": {},
     "output_type": "execute_result"
    }
   ],
   "source": [
    "myvar.split()"
   ]
  },
  {
   "cell_type": "code",
   "execution_count": 53,
   "id": "f45bf82e",
   "metadata": {},
   "outputs": [
    {
     "data": {
      "text/plain": [
       "True"
      ]
     },
     "execution_count": 53,
     "metadata": {},
     "output_type": "execute_result"
    }
   ],
   "source": [
    "\"Bd\" in myvar"
   ]
  },
  {
   "cell_type": "code",
   "execution_count": 54,
   "id": "1320d1b1",
   "metadata": {},
   "outputs": [
    {
     "data": {
      "text/plain": [
       "False"
      ]
     },
     "execution_count": 54,
     "metadata": {},
     "output_type": "execute_result"
    }
   ],
   "source": [
    "\"bd\" in myvar"
   ]
  },
  {
   "cell_type": "code",
   "execution_count": 55,
   "id": "2ff30b2a",
   "metadata": {},
   "outputs": [
    {
     "data": {
      "text/plain": [
       "'This is python Tutorials.This is strings session.'"
      ]
     },
     "execution_count": 55,
     "metadata": {},
     "output_type": "execute_result"
    }
   ],
   "source": [
    "sentence1=\"This is python Tutorials.\"\n",
    "sentence2=\"This is strings session.\"\n",
    "sentence1+sentence2"
   ]
  },
  {
   "cell_type": "code",
   "execution_count": 56,
   "id": "13b5ce8f",
   "metadata": {},
   "outputs": [
    {
     "data": {
      "text/plain": [
       "'My age is 10'"
      ]
     },
     "execution_count": 56,
     "metadata": {},
     "output_type": "execute_result"
    }
   ],
   "source": [
    "age=10\n",
    "text= \"My age is {}\"\n",
    "text.format(age)"
   ]
  },
  {
   "cell_type": "code",
   "execution_count": 57,
   "id": "4834af8b",
   "metadata": {},
   "outputs": [
    {
     "name": "stdout",
     "output_type": "stream",
     "text": [
      "Enter word: bd\n",
      "True\n"
     ]
    }
   ],
   "source": [
    "excersisestring=\"Welcome to BD\"\n",
    "userinput= input(\"Enter word: \")\n",
    "userinput=userinput.lower()\n",
    "print(userinput in excersisestring.lower())"
   ]
  },
  {
   "cell_type": "code",
   "execution_count": 58,
   "id": "499e262a",
   "metadata": {},
   "outputs": [
    {
     "name": "stdout",
     "output_type": "stream",
     "text": [
      "Enter word: Bd\n",
      "True\n"
     ]
    }
   ],
   "source": [
    "excersisestring=\"Welcome to BD\"\n",
    "userinput= input(\"Enter word: \")\n",
    "userinput=userinput.lower()\n",
    "print(userinput in excersisestring.lower())"
   ]
  },
  {
   "cell_type": "code",
   "execution_count": 59,
   "id": "9f1852fc",
   "metadata": {},
   "outputs": [
    {
     "name": "stdout",
     "output_type": "stream",
     "text": [
      "Enter word: ctg\n",
      "False\n"
     ]
    }
   ],
   "source": [
    "excersisestring=\"Welcome to BD\"\n",
    "userinput= input(\"Enter word: \")\n",
    "userinput=userinput.lower()\n",
    "print(userinput in excersisestring.lower())"
   ]
  },
  {
   "cell_type": "code",
   "execution_count": null,
   "id": "55a00f7b",
   "metadata": {},
   "outputs": [],
   "source": []
  }
 ],
 "metadata": {
  "kernelspec": {
   "display_name": "Python 3",
   "language": "python",
   "name": "python3"
  },
  "language_info": {
   "codemirror_mode": {
    "name": "ipython",
    "version": 3
   },
   "file_extension": ".py",
   "mimetype": "text/x-python",
   "name": "python",
   "nbconvert_exporter": "python",
   "pygments_lexer": "ipython3",
   "version": "3.6.13"
  }
 },
 "nbformat": 4,
 "nbformat_minor": 5
}

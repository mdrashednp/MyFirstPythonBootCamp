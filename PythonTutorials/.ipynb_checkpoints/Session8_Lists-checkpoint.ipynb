{
 "cells": [
  {
   "cell_type": "code",
   "execution_count": 6,
   "id": "b8b4be51",
   "metadata": {},
   "outputs": [
    {
     "data": {
      "text/plain": [
       "[11, 22, 33, 54, 65]"
      ]
     },
     "execution_count": 6,
     "metadata": {},
     "output_type": "execute_result"
    }
   ],
   "source": [
    "RollNumberList = [11,22,33,54,65]\n",
    "RollNumberList"
   ]
  },
  {
   "cell_type": "code",
   "execution_count": 22,
   "id": "33c47e99",
   "metadata": {},
   "outputs": [
    {
     "data": {
      "text/plain": [
       "['Roll number of class 7', 11, 22, 33, 54, 65]"
      ]
     },
     "execution_count": 22,
     "metadata": {},
     "output_type": "execute_result"
    }
   ],
   "source": [
    "RollNumberList = [\"Roll number of class 7\",11,22,33,54,65]\n",
    "RollNumberList"
   ]
  },
  {
   "cell_type": "code",
   "execution_count": 4,
   "id": "8f01e7cc",
   "metadata": {},
   "outputs": [
    {
     "data": {
      "text/plain": [
       "list"
      ]
     },
     "execution_count": 4,
     "metadata": {},
     "output_type": "execute_result"
    }
   ],
   "source": [
    "type(RollNumberList)"
   ]
  },
  {
   "cell_type": "code",
   "execution_count": 23,
   "id": "5b1ac9fd",
   "metadata": {},
   "outputs": [
    {
     "data": {
      "text/plain": [
       "'Roll number of class 7'"
      ]
     },
     "execution_count": 23,
     "metadata": {},
     "output_type": "execute_result"
    }
   ],
   "source": [
    "RollNumberList[0]"
   ]
  },
  {
   "cell_type": "code",
   "execution_count": 12,
   "id": "2b360ca2",
   "metadata": {},
   "outputs": [
    {
     "data": {
      "text/plain": [
       "22"
      ]
     },
     "execution_count": 12,
     "metadata": {},
     "output_type": "execute_result"
    }
   ],
   "source": [
    "RollNumberList[2]"
   ]
  },
  {
   "cell_type": "code",
   "execution_count": 24,
   "id": "4e85c80e",
   "metadata": {},
   "outputs": [
    {
     "data": {
      "text/plain": [
       "['Roll number of class 7', 11]"
      ]
     },
     "execution_count": 24,
     "metadata": {},
     "output_type": "execute_result"
    }
   ],
   "source": [
    "RollNumberList[0:2]"
   ]
  },
  {
   "cell_type": "code",
   "execution_count": 14,
   "id": "41b6228f",
   "metadata": {},
   "outputs": [
    {
     "data": {
      "text/plain": [
       "65"
      ]
     },
     "execution_count": 14,
     "metadata": {},
     "output_type": "execute_result"
    }
   ],
   "source": [
    "RollNumberList[-1]"
   ]
  },
  {
   "cell_type": "code",
   "execution_count": 27,
   "id": "c47bff4a",
   "metadata": {},
   "outputs": [
    {
     "data": {
      "text/plain": [
       "['Roll number of class 7', 11, 22, 33, 54, 65]"
      ]
     },
     "execution_count": 27,
     "metadata": {},
     "output_type": "execute_result"
    }
   ],
   "source": [
    "RollNumberList = [\"Roll number of class 7\",11,22,33,54,65]\n",
    "RollNumberList"
   ]
  },
  {
   "cell_type": "code",
   "execution_count": 28,
   "id": "6d38219c",
   "metadata": {},
   "outputs": [
    {
     "data": {
      "text/plain": [
       "['Roll number of class 7', 11, 22, 33, 54, 65, 78]"
      ]
     },
     "execution_count": 28,
     "metadata": {},
     "output_type": "execute_result"
    }
   ],
   "source": [
    "RollNumberList.append(78)\n",
    "RollNumberList"
   ]
  },
  {
   "cell_type": "code",
   "execution_count": 29,
   "id": "2be68fae",
   "metadata": {},
   "outputs": [
    {
     "data": {
      "text/plain": [
       "['Roll number of class 7', 11, 22, 33, 65, 78]"
      ]
     },
     "execution_count": 29,
     "metadata": {},
     "output_type": "execute_result"
    }
   ],
   "source": [
    "RollNumberList.remove(54)\n",
    "RollNumberList"
   ]
  },
  {
   "cell_type": "code",
   "execution_count": 30,
   "id": "4118e187",
   "metadata": {},
   "outputs": [
    {
     "data": {
      "text/plain": [
       "['Roll number of class 7', 11, 22, 33, 62, 78]"
      ]
     },
     "execution_count": 30,
     "metadata": {},
     "output_type": "execute_result"
    }
   ],
   "source": [
    "RollNumberList[-2] = 62\n",
    "RollNumberList"
   ]
  },
  {
   "cell_type": "code",
   "execution_count": 32,
   "id": "225fd7a0",
   "metadata": {},
   "outputs": [
    {
     "data": {
      "text/plain": [
       "[11, 22, 33, 62, 78]"
      ]
     },
     "execution_count": 32,
     "metadata": {},
     "output_type": "execute_result"
    }
   ],
   "source": [
    "RollNumberList.remove('Roll number of class 7')\n",
    "RollNumberList"
   ]
  },
  {
   "cell_type": "code",
   "execution_count": 33,
   "id": "e5ce9c9e",
   "metadata": {},
   "outputs": [
    {
     "data": {
      "text/plain": [
       "5"
      ]
     },
     "execution_count": 33,
     "metadata": {},
     "output_type": "execute_result"
    }
   ],
   "source": [
    "len(RollNumberList)"
   ]
  },
  {
   "cell_type": "code",
   "execution_count": 34,
   "id": "7015b142",
   "metadata": {},
   "outputs": [
    {
     "data": {
      "text/plain": [
       "True"
      ]
     },
     "execution_count": 34,
     "metadata": {},
     "output_type": "execute_result"
    }
   ],
   "source": [
    "78 in RollNumberList"
   ]
  },
  {
   "cell_type": "code",
   "execution_count": 35,
   "id": "b0127105",
   "metadata": {},
   "outputs": [
    {
     "data": {
      "text/plain": [
       "False"
      ]
     },
     "execution_count": 35,
     "metadata": {},
     "output_type": "execute_result"
    }
   ],
   "source": [
    "63 in RollNumberList"
   ]
  },
  {
   "cell_type": "code",
   "execution_count": 36,
   "id": "2a9c7cec",
   "metadata": {},
   "outputs": [
    {
     "data": {
      "text/plain": [
       "[11, 22, 33, 62, 78]"
      ]
     },
     "execution_count": 36,
     "metadata": {},
     "output_type": "execute_result"
    }
   ],
   "source": [
    "RollNumberList"
   ]
  },
  {
   "cell_type": "code",
   "execution_count": 37,
   "id": "f1664da7",
   "metadata": {},
   "outputs": [
    {
     "data": {
      "text/plain": [
       "list"
      ]
     },
     "execution_count": 37,
     "metadata": {},
     "output_type": "execute_result"
    }
   ],
   "source": [
    "mynumber = RollNumberList\n",
    "type(mynumber)"
   ]
  },
  {
   "cell_type": "code",
   "execution_count": 38,
   "id": "338107c2",
   "metadata": {},
   "outputs": [
    {
     "data": {
      "text/plain": [
       "[11, 22, 33, 62, 78]"
      ]
     },
     "execution_count": 38,
     "metadata": {},
     "output_type": "execute_result"
    }
   ],
   "source": [
    "mynumber = RollNumberList\n",
    "mynumber"
   ]
  },
  {
   "cell_type": "code",
   "execution_count": 39,
   "id": "4de8e99d",
   "metadata": {},
   "outputs": [
    {
     "data": {
      "text/plain": [
       "[11, 22, 33, 62, 78, 53]"
      ]
     },
     "execution_count": 39,
     "metadata": {},
     "output_type": "execute_result"
    }
   ],
   "source": [
    "mynumber.append(53)\n",
    "mynumber"
   ]
  },
  {
   "cell_type": "code",
   "execution_count": 40,
   "id": "aaf17257",
   "metadata": {},
   "outputs": [
    {
     "data": {
      "text/plain": [
       "[11, 22, 33, 62, 78, 53]"
      ]
     },
     "execution_count": 40,
     "metadata": {},
     "output_type": "execute_result"
    }
   ],
   "source": [
    "RollNumberList"
   ]
  },
  {
   "cell_type": "code",
   "execution_count": 41,
   "id": "f1e82d51",
   "metadata": {},
   "outputs": [
    {
     "data": {
      "text/plain": [
       "[11, 22, 33, 62, 78]"
      ]
     },
     "execution_count": 41,
     "metadata": {},
     "output_type": "execute_result"
    }
   ],
   "source": [
    "RollNumberList = [11, 22, 33, 62, 78]\n",
    "RollNumberList"
   ]
  },
  {
   "cell_type": "code",
   "execution_count": 42,
   "id": "028def3d",
   "metadata": {},
   "outputs": [
    {
     "data": {
      "text/plain": [
       "[11, 22, 33, 62, 78]"
      ]
     },
     "execution_count": 42,
     "metadata": {},
     "output_type": "execute_result"
    }
   ],
   "source": [
    "myduplicatenum = RollNumberList.copy()\n",
    "myduplicatenum"
   ]
  },
  {
   "cell_type": "code",
   "execution_count": 43,
   "id": "44e1d736",
   "metadata": {},
   "outputs": [
    {
     "data": {
      "text/plain": [
       "[11, 22, 33, 62, 78, 95]"
      ]
     },
     "execution_count": 43,
     "metadata": {},
     "output_type": "execute_result"
    }
   ],
   "source": [
    "myduplicatenum.append(95)\n",
    "myduplicatenum"
   ]
  },
  {
   "cell_type": "code",
   "execution_count": 44,
   "id": "ae608362",
   "metadata": {},
   "outputs": [
    {
     "data": {
      "text/plain": [
       "[11, 22, 33, 62, 78]"
      ]
     },
     "execution_count": 44,
     "metadata": {},
     "output_type": "execute_result"
    }
   ],
   "source": [
    "RollNumberList"
   ]
  },
  {
   "cell_type": "code",
   "execution_count": 45,
   "id": "3af3fd45",
   "metadata": {},
   "outputs": [
    {
     "data": {
      "text/plain": [
       "[11, 22, 33, 62, 78, 95, 11, 22, 33, 62, 78]"
      ]
     },
     "execution_count": 45,
     "metadata": {},
     "output_type": "execute_result"
    }
   ],
   "source": [
    "myduplicatenum + RollNumberList"
   ]
  },
  {
   "cell_type": "code",
   "execution_count": 46,
   "id": "acd7204a",
   "metadata": {},
   "outputs": [
    {
     "data": {
      "text/plain": [
       "[11, 22, 33, 62, 78]"
      ]
     },
     "execution_count": 46,
     "metadata": {},
     "output_type": "execute_result"
    }
   ],
   "source": [
    "RollNumberList.sort()\n",
    "RollNumberList"
   ]
  },
  {
   "cell_type": "code",
   "execution_count": 47,
   "id": "37c8a41b",
   "metadata": {},
   "outputs": [
    {
     "name": "stdout",
     "output_type": "stream",
     "text": [
      "11\n",
      "22\n",
      "33\n",
      "62\n",
      "78\n"
     ]
    }
   ],
   "source": [
    "for num in RollNumberList:\n",
    "    print(num)"
   ]
  },
  {
   "cell_type": "code",
   "execution_count": 54,
   "id": "5385ce4a",
   "metadata": {},
   "outputs": [
    {
     "name": "stdout",
     "output_type": "stream",
     "text": [
      "Even Number:  [6, 12, 22, 44]\n",
      "Odd Number:  [3, 9, 19, 27, 33]\n"
     ]
    }
   ],
   "source": [
    "ValuesList = [3,6,9,12,19,22,27,33,44]\n",
    "EvenList = []\n",
    "OddList = []\n",
    "for num in ValuesList:\n",
    "    if num % 2 == 0:\n",
    "        EvenList.append(num)\n",
    "    else:\n",
    "        OddList.append(num)\n",
    "print (\"Even Number: \", EvenList)\n",
    "print (\"Odd Number: \", OddList)"
   ]
  },
  {
   "cell_type": "code",
   "execution_count": null,
   "id": "75213970",
   "metadata": {},
   "outputs": [],
   "source": []
  }
 ],
 "metadata": {
  "kernelspec": {
   "display_name": "Python 3",
   "language": "python",
   "name": "python3"
  },
  "language_info": {
   "codemirror_mode": {
    "name": "ipython",
    "version": 3
   },
   "file_extension": ".py",
   "mimetype": "text/x-python",
   "name": "python",
   "nbconvert_exporter": "python",
   "pygments_lexer": "ipython3",
   "version": "3.6.13"
  }
 },
 "nbformat": 4,
 "nbformat_minor": 5
}

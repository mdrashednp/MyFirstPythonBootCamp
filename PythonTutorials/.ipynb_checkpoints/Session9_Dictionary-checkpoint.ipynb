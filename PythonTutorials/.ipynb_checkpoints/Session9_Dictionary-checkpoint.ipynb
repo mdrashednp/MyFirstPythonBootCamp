{
 "cells": [
  {
   "cell_type": "code",
   "execution_count": 1,
   "id": "e7d2f364",
   "metadata": {},
   "outputs": [
    {
     "data": {
      "text/plain": [
       "{'Akas': 2, 'Rahim': 21, 'Karim': 15, 'Piya': 31, 'Bubli': 45}"
      ]
     },
     "execution_count": 1,
     "metadata": {},
     "output_type": "execute_result"
    }
   ],
   "source": [
    "Studentsinclass7 = {\"Akas\": 2, \"Rahim\": 21, \"Karim\": 15, \"Piya\": 31, \"Bubli\": 45}\n",
    "Studentsinclass7"
   ]
  },
  {
   "cell_type": "code",
   "execution_count": 2,
   "id": "82c6b6c1",
   "metadata": {},
   "outputs": [
    {
     "data": {
      "text/plain": [
       "dict"
      ]
     },
     "execution_count": 2,
     "metadata": {},
     "output_type": "execute_result"
    }
   ],
   "source": [
    "type(Studentsinclass7)"
   ]
  },
  {
   "cell_type": "code",
   "execution_count": 3,
   "id": "0c6d71ec",
   "metadata": {},
   "outputs": [
    {
     "data": {
      "text/plain": [
       "dict_keys(['Akas', 'Rahim', 'Karim', 'Piya', 'Bubli'])"
      ]
     },
     "execution_count": 3,
     "metadata": {},
     "output_type": "execute_result"
    }
   ],
   "source": [
    "Studentsinclass7.keys()"
   ]
  },
  {
   "cell_type": "code",
   "execution_count": 4,
   "id": "96b2b00b",
   "metadata": {},
   "outputs": [
    {
     "data": {
      "text/plain": [
       "dict_values([2, 21, 15, 31, 45])"
      ]
     },
     "execution_count": 4,
     "metadata": {},
     "output_type": "execute_result"
    }
   ],
   "source": [
    "Studentsinclass7.values()"
   ]
  },
  {
   "cell_type": "code",
   "execution_count": 5,
   "id": "ce7d3a33",
   "metadata": {},
   "outputs": [
    {
     "data": {
      "text/plain": [
       "5"
      ]
     },
     "execution_count": 5,
     "metadata": {},
     "output_type": "execute_result"
    }
   ],
   "source": [
    "len(Studentsinclass7)"
   ]
  },
  {
   "cell_type": "code",
   "execution_count": 6,
   "id": "a3436467",
   "metadata": {},
   "outputs": [
    {
     "data": {
      "text/plain": [
       "{'Akas': 2, 'Rahim': 21, 'Karim': 15, 'Piya': 31, 'Bubli': 45, 'Sagor': 53}"
      ]
     },
     "execution_count": 6,
     "metadata": {},
     "output_type": "execute_result"
    }
   ],
   "source": [
    "Studentsinclass7['Sagor'] = 53\n",
    "Studentsinclass7"
   ]
  },
  {
   "cell_type": "code",
   "execution_count": 7,
   "id": "253e205b",
   "metadata": {},
   "outputs": [
    {
     "data": {
      "text/plain": [
       "15"
      ]
     },
     "execution_count": 7,
     "metadata": {},
     "output_type": "execute_result"
    }
   ],
   "source": [
    "Studentsinclass7 ['Karim']"
   ]
  },
  {
   "cell_type": "code",
   "execution_count": 8,
   "id": "adc07a8f",
   "metadata": {},
   "outputs": [
    {
     "data": {
      "text/plain": [
       "{'Akas': 2, 'Rahim': 8, 'Karim': 15, 'Piya': 31, 'Bubli': 45, 'Sagor': 53}"
      ]
     },
     "execution_count": 8,
     "metadata": {},
     "output_type": "execute_result"
    }
   ],
   "source": [
    "Studentsinclass7['Rahim'] = 8\n",
    "Studentsinclass7"
   ]
  },
  {
   "cell_type": "code",
   "execution_count": 9,
   "id": "232c98c0",
   "metadata": {},
   "outputs": [
    {
     "data": {
      "text/plain": [
       "{'Akas': 2, 'Rahim': 8, 'Karim': 15, 'Piya': 31, 'Sagor': 53}"
      ]
     },
     "execution_count": 9,
     "metadata": {},
     "output_type": "execute_result"
    }
   ],
   "source": [
    "Studentsinclass7.pop('Bubli')\n",
    "Studentsinclass7"
   ]
  },
  {
   "cell_type": "code",
   "execution_count": 11,
   "id": "31158cda",
   "metadata": {},
   "outputs": [
    {
     "name": "stdout",
     "output_type": "stream",
     "text": [
      "Roll number of  Akas is 2\n",
      "Roll number of  Rahim is 8\n",
      "Roll number of  Karim is 15\n",
      "Roll number of  Piya is 31\n",
      "Roll number of  Sagor is 53\n"
     ]
    }
   ],
   "source": [
    "for name, roll in Studentsinclass7.items():\n",
    "    print(\"Roll number of \", name, \"is\", roll)"
   ]
  },
  {
   "cell_type": "code",
   "execution_count": 12,
   "id": "69eb35b8",
   "metadata": {},
   "outputs": [
    {
     "name": "stdout",
     "output_type": "stream",
     "text": [
      "31\n"
     ]
    }
   ],
   "source": [
    "if 'Piya' in Studentsinclass7.keys():\n",
    "    print (Studentsinclass7['Piya'])\n",
    "else:\n",
    "    print (\"Invalid Entry\")"
   ]
  },
  {
   "cell_type": "code",
   "execution_count": 13,
   "id": "d9ec4f61",
   "metadata": {},
   "outputs": [
    {
     "name": "stdout",
     "output_type": "stream",
     "text": [
      "Invalid Entry\n"
     ]
    }
   ],
   "source": [
    "if 'Ruma' in Studentsinclass7.keys():\n",
    "    print (Studentsinclass7['Ruma'])\n",
    "else:\n",
    "    print (\"Invalid Entry\")"
   ]
  },
  {
   "cell_type": "code",
   "execution_count": 16,
   "id": "e29d9ed6",
   "metadata": {},
   "outputs": [
    {
     "data": {
      "text/plain": [
       "{'Akas': 2, 'Rahim': 66, 'Karim': 15, 'Piya': 31, 'Sagor': 53}"
      ]
     },
     "execution_count": 16,
     "metadata": {},
     "output_type": "execute_result"
    }
   ],
   "source": [
    "Studentsinclass7"
   ]
  },
  {
   "cell_type": "code",
   "execution_count": 15,
   "id": "8b45fed2",
   "metadata": {},
   "outputs": [],
   "source": [
    "### Dictionary did not contain duplicate entry. But in List it can be possible.###"
   ]
  },
  {
   "cell_type": "code",
   "execution_count": 17,
   "id": "8a8d249b",
   "metadata": {},
   "outputs": [
    {
     "data": {
      "text/plain": [
       "{'Akas': 2, 'Rahim': 25, 'Karim': 15, 'Piya': 31, 'Sagor': 53}"
      ]
     },
     "execution_count": 17,
     "metadata": {},
     "output_type": "execute_result"
    }
   ],
   "source": [
    "Studentsinclass7['Rahim'] = 25\n",
    "Studentsinclass7"
   ]
  },
  {
   "cell_type": "code",
   "execution_count": 18,
   "id": "a5a657b4",
   "metadata": {},
   "outputs": [
    {
     "data": {
      "text/plain": [
       "{'Akas': 45, 'Rahim': 21, 'Karim': 15, 'Piya': 31}"
      ]
     },
     "execution_count": 18,
     "metadata": {},
     "output_type": "execute_result"
    }
   ],
   "source": [
    "Studentsinclass7 = {\"Akas\": 2, \"Rahim\": 21, \"Karim\": 15, \"Piya\": 31, \"Akas\": 45}\n",
    "Studentsinclass7"
   ]
  },
  {
   "cell_type": "code",
   "execution_count": null,
   "id": "ad3d2051",
   "metadata": {},
   "outputs": [],
   "source": []
  }
 ],
 "metadata": {
  "kernelspec": {
   "display_name": "Python 3",
   "language": "python",
   "name": "python3"
  },
  "language_info": {
   "codemirror_mode": {
    "name": "ipython",
    "version": 3
   },
   "file_extension": ".py",
   "mimetype": "text/x-python",
   "name": "python",
   "nbconvert_exporter": "python",
   "pygments_lexer": "ipython3",
   "version": "3.6.13"
  }
 },
 "nbformat": 4,
 "nbformat_minor": 5
}

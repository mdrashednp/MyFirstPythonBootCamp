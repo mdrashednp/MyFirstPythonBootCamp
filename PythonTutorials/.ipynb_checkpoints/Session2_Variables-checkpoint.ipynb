{
 "cells": [
  {
   "cell_type": "code",
   "execution_count": 1,
   "id": "41cc6955",
   "metadata": {},
   "outputs": [
    {
     "data": {
      "text/plain": [
       "4"
      ]
     },
     "execution_count": 1,
     "metadata": {},
     "output_type": "execute_result"
    }
   ],
   "source": [
    "2+2"
   ]
  },
  {
   "cell_type": "code",
   "execution_count": 2,
   "id": "d1829181",
   "metadata": {},
   "outputs": [
    {
     "name": "stdout",
     "output_type": "stream",
     "text": [
      "Enter first number: 2\n"
     ]
    },
    {
     "data": {
      "text/plain": [
       "'2'"
      ]
     },
     "execution_count": 2,
     "metadata": {},
     "output_type": "execute_result"
    }
   ],
   "source": [
    "input(\"Enter first number: \")"
   ]
  },
  {
   "cell_type": "code",
   "execution_count": 3,
   "id": "db338d34",
   "metadata": {},
   "outputs": [
    {
     "name": "stdout",
     "output_type": "stream",
     "text": [
      "Enter first number: 3\n"
     ]
    }
   ],
   "source": [
    "myfirstvar = input(\"Enter first number: \")"
   ]
  },
  {
   "cell_type": "code",
   "execution_count": 4,
   "id": "f63ee4c1",
   "metadata": {},
   "outputs": [
    {
     "data": {
      "text/plain": [
       "'3'"
      ]
     },
     "execution_count": 4,
     "metadata": {},
     "output_type": "execute_result"
    }
   ],
   "source": [
    "myfirstvar"
   ]
  },
  {
   "cell_type": "code",
   "execution_count": 5,
   "id": "a7568b2d",
   "metadata": {},
   "outputs": [],
   "source": [
    "myfirst = 4"
   ]
  },
  {
   "cell_type": "code",
   "execution_count": 6,
   "id": "7d771da4",
   "metadata": {},
   "outputs": [
    {
     "data": {
      "text/plain": [
       "4"
      ]
     },
     "execution_count": 6,
     "metadata": {},
     "output_type": "execute_result"
    }
   ],
   "source": [
    "myfirst"
   ]
  },
  {
   "cell_type": "code",
   "execution_count": 8,
   "id": "961a84f4",
   "metadata": {},
   "outputs": [],
   "source": [
    "myfirstvar = 8"
   ]
  },
  {
   "cell_type": "code",
   "execution_count": 9,
   "id": "e34358d0",
   "metadata": {},
   "outputs": [
    {
     "data": {
      "text/plain": [
       "15"
      ]
     },
     "execution_count": 9,
     "metadata": {},
     "output_type": "execute_result"
    }
   ],
   "source": [
    "mysecondvar = 7\n",
    "myfirstvar+mysecondvar"
   ]
  },
  {
   "cell_type": "code",
   "execution_count": 10,
   "id": "8fbdb6b5",
   "metadata": {},
   "outputs": [
    {
     "data": {
      "text/plain": [
       "int"
      ]
     },
     "execution_count": 10,
     "metadata": {},
     "output_type": "execute_result"
    }
   ],
   "source": [
    "type(myfirstvar)"
   ]
  },
  {
   "cell_type": "code",
   "execution_count": 11,
   "id": "3fedb7a6",
   "metadata": {},
   "outputs": [
    {
     "data": {
      "text/plain": [
       "52.5"
      ]
     },
     "execution_count": 11,
     "metadata": {},
     "output_type": "execute_result"
    }
   ],
   "source": [
    "var1=7.5\n",
    "var2=7\n",
    "var1*var2"
   ]
  },
  {
   "cell_type": "code",
   "execution_count": 12,
   "id": "1070e7b9",
   "metadata": {},
   "outputs": [
    {
     "data": {
      "text/plain": [
       "float"
      ]
     },
     "execution_count": 12,
     "metadata": {},
     "output_type": "execute_result"
    }
   ],
   "source": [
    "type(var1)"
   ]
  },
  {
   "cell_type": "code",
   "execution_count": null,
   "id": "ef45ae48",
   "metadata": {},
   "outputs": [],
   "source": []
  }
 ],
 "metadata": {
  "kernelspec": {
   "display_name": "Python 3",
   "language": "python",
   "name": "python3"
  },
  "language_info": {
   "codemirror_mode": {
    "name": "ipython",
    "version": 3
   },
   "file_extension": ".py",
   "mimetype": "text/x-python",
   "name": "python",
   "nbconvert_exporter": "python",
   "pygments_lexer": "ipython3",
   "version": "3.6.13"
  }
 },
 "nbformat": 4,
 "nbformat_minor": 5
}

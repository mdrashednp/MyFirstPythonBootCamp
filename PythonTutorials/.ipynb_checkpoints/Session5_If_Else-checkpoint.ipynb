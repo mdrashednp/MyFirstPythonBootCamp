{
 "cells": [
  {
   "cell_type": "code",
   "execution_count": 1,
   "id": "a2ec52e6",
   "metadata": {},
   "outputs": [
    {
     "name": "stdout",
     "output_type": "stream",
     "text": [
      "Value is 10\n"
     ]
    }
   ],
   "source": [
    "var = 10\n",
    "if var == 10:\n",
    "    print (\"Value is 10\")"
   ]
  },
  {
   "cell_type": "code",
   "execution_count": 2,
   "id": "61472031",
   "metadata": {},
   "outputs": [
    {
     "name": "stdout",
     "output_type": "stream",
     "text": [
      "Value is 10\n",
      "Value is less than 15\n"
     ]
    }
   ],
   "source": [
    "var = 10\n",
    "if var == 10:\n",
    "    print (\"Value is 10\")\n",
    "if var < 15:\n",
    "    print (\"Value is less than 15\")"
   ]
  },
  {
   "cell_type": "code",
   "execution_count": 3,
   "id": "27030597",
   "metadata": {},
   "outputs": [],
   "source": [
    "var = 15\n",
    "if var == 10:\n",
    "    print (\"Value is 10\")\n",
    "    if var < 15:\n",
    "        print (\"Value is less than 15\")"
   ]
  },
  {
   "cell_type": "code",
   "execution_count": null,
   "id": "33ece8f2",
   "metadata": {},
   "outputs": [],
   "source": [
    "### parent if condition is false. So other condition did not check. So di not give a result on this code.###\n",
    "### parent if condition is true. Than check other condition. ###"
   ]
  },
  {
   "cell_type": "code",
   "execution_count": 4,
   "id": "6075f3a7",
   "metadata": {},
   "outputs": [
    {
     "name": "stdout",
     "output_type": "stream",
     "text": [
      "Number is divisible by 3 & 5\n"
     ]
    }
   ],
   "source": [
    "var = 15\n",
    "if (var % 5 == 0) and (var % 3 == 0):\n",
    "    print (\"Number is divisible by 3 & 5\")"
   ]
  },
  {
   "cell_type": "code",
   "execution_count": 6,
   "id": "c947d3fb",
   "metadata": {},
   "outputs": [],
   "source": [
    "var = 20\n",
    "if (var % 5 == 0) and (var % 3 == 0):\n",
    "    print (\"Number is divisible by 3 & 5\")"
   ]
  },
  {
   "cell_type": "code",
   "execution_count": null,
   "id": "83a1f9fe",
   "metadata": {},
   "outputs": [],
   "source": [
    "### conditions are false. So give no result. ###"
   ]
  },
  {
   "cell_type": "code",
   "execution_count": 7,
   "id": "420404c6",
   "metadata": {},
   "outputs": [
    {
     "name": "stdout",
     "output_type": "stream",
     "text": [
      "Number is divisible either 3 or 5\n"
     ]
    }
   ],
   "source": [
    "var = 20\n",
    "if (var % 5 == 0) or (var % 3 == 0):\n",
    "    print (\"Number is divisible either 3 or 5\")"
   ]
  },
  {
   "cell_type": "code",
   "execution_count": 8,
   "id": "780800f2",
   "metadata": {},
   "outputs": [
    {
     "name": "stdout",
     "output_type": "stream",
     "text": [
      "Number is divisible either 3 or 5\n"
     ]
    }
   ],
   "source": [
    "var = 18\n",
    "if (var % 5 == 0) or (var % 3 == 0):\n",
    "    print (\"Number is divisible either 3 or 5\")"
   ]
  },
  {
   "cell_type": "code",
   "execution_count": 9,
   "id": "5f2f3114",
   "metadata": {},
   "outputs": [],
   "source": [
    "var = 18\n",
    "if (var % 5 == 0) and (var % 3 == 0):\n",
    "    print (\"Number is divisible by 3 & 5\")"
   ]
  },
  {
   "cell_type": "code",
   "execution_count": null,
   "id": "51271254",
   "metadata": {},
   "outputs": [],
   "source": [
    "### conditions are false. So give no result. ###"
   ]
  },
  {
   "cell_type": "code",
   "execution_count": 10,
   "id": "37d1fdca",
   "metadata": {},
   "outputs": [
    {
     "name": "stdout",
     "output_type": "stream",
     "text": [
      "Number is divisible by 3 or 5\n"
     ]
    }
   ],
   "source": [
    "var = 18\n",
    "if (var % 5 == 0) or (var % 3 == 0):\n",
    "    print (\"Number is divisible by 3 or 5\")\n",
    "else:\n",
    "    print (\"Number is not divisible by 3 or 5\")"
   ]
  },
  {
   "cell_type": "code",
   "execution_count": 11,
   "id": "42d56279",
   "metadata": {},
   "outputs": [
    {
     "name": "stdout",
     "output_type": "stream",
     "text": [
      "Number is not divisible by 3 or 5\n"
     ]
    }
   ],
   "source": [
    "var = 19\n",
    "if (var % 5 == 0) or (var % 3 == 0):\n",
    "    print (\"Number is divisible by 3 or 5\")\n",
    "else:\n",
    "    print (\"Number is not divisible by 3 or 5\")"
   ]
  },
  {
   "cell_type": "code",
   "execution_count": 12,
   "id": "003a94c8",
   "metadata": {},
   "outputs": [
    {
     "name": "stdout",
     "output_type": "stream",
     "text": [
      "Number is divisible by 3 or 5\n",
      "Number is divisible by only 3\n"
     ]
    }
   ],
   "source": [
    "var = 21\n",
    "if (var % 5 == 0) or (var % 3 == 0):\n",
    "    print (\"Number is divisible by 3 or 5\")\n",
    "    if var % 5 == 0:\n",
    "        print (\"Number is divisible by only 5\")\n",
    "    else:\n",
    "        print (\"Number is divisible by only 3\")\n",
    "else:\n",
    "    print (\"Number is not divisible by 3 or 5\")"
   ]
  },
  {
   "cell_type": "code",
   "execution_count": 13,
   "id": "570c7176",
   "metadata": {},
   "outputs": [
    {
     "name": "stdout",
     "output_type": "stream",
     "text": [
      "Number is divisible by 3 or 5\n",
      "Number is divisible by only 5\n"
     ]
    }
   ],
   "source": [
    "var = 25\n",
    "if (var % 5 == 0) or (var % 3 == 0):\n",
    "    print (\"Number is divisible by 3 or 5\")\n",
    "    if var % 5 == 0:\n",
    "        print (\"Number is divisible by only 5\")\n",
    "    else:\n",
    "        print (\"Number is divisible by only 3\")\n",
    "else:\n",
    "    print (\"Number is not divisible by 3 or 5\")"
   ]
  },
  {
   "cell_type": "code",
   "execution_count": 14,
   "id": "e925876f",
   "metadata": {},
   "outputs": [
    {
     "name": "stdout",
     "output_type": "stream",
     "text": [
      "Number is divisible by 3 or 5\n",
      "Number is divisible by both 3 or 5\n",
      "Number is divisible by only 5\n"
     ]
    }
   ],
   "source": [
    "var = 15\n",
    "if (var % 5 == 0) or (var % 3 == 0):\n",
    "    print (\"Number is divisible by 3 or 5\")\n",
    "    if (var % 5 == 0) and (var % 3 == 0):\n",
    "        print (\"Number is divisible by both 3 or 5\")\n",
    "    if var % 5 == 0:\n",
    "        print (\"Number is divisible by only 5\")\n",
    "    else:\n",
    "        print (\"Number is divisible by only 3\")\n",
    "else:\n",
    "    print (\"Number is not divisible by 3 or 5\")"
   ]
  },
  {
   "cell_type": "code",
   "execution_count": 15,
   "id": "11940566",
   "metadata": {},
   "outputs": [
    {
     "name": "stdout",
     "output_type": "stream",
     "text": [
      "Number is divisible by 3 or 5\n",
      "Number is divisible by both 3 or 5\n"
     ]
    }
   ],
   "source": [
    "var = 15\n",
    "if (var % 5 == 0) or (var % 3 == 0):\n",
    "    print (\"Number is divisible by 3 or 5\")\n",
    "    if (var % 5 == 0) and (var % 3 == 0):\n",
    "        print (\"Number is divisible by both 3 or 5\")\n",
    "    elif var % 5 == 0:\n",
    "        print (\"Number is divisible by only 5\")\n",
    "    else:\n",
    "        print (\"Number is divisible by only 3\")\n",
    "else:\n",
    "    print (\"Number is not divisible by 3 or 5\")"
   ]
  },
  {
   "cell_type": "code",
   "execution_count": 16,
   "id": "99cb4af4",
   "metadata": {},
   "outputs": [
    {
     "name": "stdout",
     "output_type": "stream",
     "text": [
      "Enter a string: Dhaka\n",
      "Both A & H is present in the given string\n"
     ]
    }
   ],
   "source": [
    "string = input (\"Enter a string: \")\n",
    "string = string.lower()\n",
    "if (\"a\" in string) and (\"h\" in string):\n",
    "    print (\"Both A & H is present in the given string\")\n",
    "elif \"a\" in string:\n",
    "    print (\"A is present in the given string\")\n",
    "elif \"h\" in string:\n",
    "    print (\"H is present in the given string\")\n",
    "else:\n",
    "    print (\"Both A & H is not present in the given string\")"
   ]
  },
  {
   "cell_type": "code",
   "execution_count": 17,
   "id": "76652a88",
   "metadata": {},
   "outputs": [
    {
     "name": "stdout",
     "output_type": "stream",
     "text": [
      "Enter a string: Shylet\n",
      "H is present in the given string\n"
     ]
    }
   ],
   "source": [
    "string = input (\"Enter a string: \")\n",
    "string = string.lower()\n",
    "if (\"a\" in string) and (\"h\" in string):\n",
    "    print (\"Both A & H is present in the given string\")\n",
    "elif \"a\" in string:\n",
    "    print (\"A is present in the given string\")\n",
    "elif \"h\" in string:\n",
    "    print (\"H is present in the given string\")\n",
    "else:\n",
    "    print (\"Both A & H is not present in the given string\")"
   ]
  },
  {
   "cell_type": "code",
   "execution_count": 18,
   "id": "6acf916f",
   "metadata": {},
   "outputs": [
    {
     "name": "stdout",
     "output_type": "stream",
     "text": [
      "Enter a string: Asad\n",
      "A is present in the given string\n"
     ]
    }
   ],
   "source": [
    "string = input (\"Enter a string: \")\n",
    "string = string.lower()\n",
    "if (\"a\" in string) and (\"h\" in string):\n",
    "    print (\"Both A & H is present in the given string\")\n",
    "elif \"a\" in string:\n",
    "    print (\"A is present in the given string\")\n",
    "elif \"h\" in string:\n",
    "    print (\"H is present in the given string\")\n",
    "else:\n",
    "    print (\"Both A & H is not present in the given string\")"
   ]
  },
  {
   "cell_type": "code",
   "execution_count": 19,
   "id": "e85f1350",
   "metadata": {},
   "outputs": [
    {
     "name": "stdout",
     "output_type": "stream",
     "text": [
      "Enter a string: Visit\n",
      "Both A & H is not present in the given string\n"
     ]
    }
   ],
   "source": [
    "string = input (\"Enter a string: \")\n",
    "string = string.lower()\n",
    "if (\"a\" in string) and (\"h\" in string):\n",
    "    print (\"Both A & H is present in the given string\")\n",
    "elif \"a\" in string:\n",
    "    print (\"A is present in the given string\")\n",
    "elif \"h\" in string:\n",
    "    print (\"H is present in the given string\")\n",
    "else:\n",
    "    print (\"Both A & H is not present in the given string\")"
   ]
  },
  {
   "cell_type": "code",
   "execution_count": null,
   "id": "cf5595d7",
   "metadata": {},
   "outputs": [],
   "source": []
  }
 ],
 "metadata": {
  "kernelspec": {
   "display_name": "Python 3",
   "language": "python",
   "name": "python3"
  },
  "language_info": {
   "codemirror_mode": {
    "name": "ipython",
    "version": 3
   },
   "file_extension": ".py",
   "mimetype": "text/x-python",
   "name": "python",
   "nbconvert_exporter": "python",
   "pygments_lexer": "ipython3",
   "version": "3.6.13"
  }
 },
 "nbformat": 4,
 "nbformat_minor": 5
}

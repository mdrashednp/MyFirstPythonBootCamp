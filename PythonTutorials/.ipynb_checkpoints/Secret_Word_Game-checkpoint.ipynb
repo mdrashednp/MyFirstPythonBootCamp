{
 "cells": [
  {
   "cell_type": "code",
   "execution_count": 4,
   "id": "f93c2b31",
   "metadata": {},
   "outputs": [
    {
     "name": "stdout",
     "output_type": "stream",
     "text": [
      "Enter your Secret Word: Rana\n",
      "Enter your Secret Word: Nabil\n",
      "Enter your Secret Word: Rashed\n",
      "Enter your Secret Word: Sajid\n",
      "Enter your Secret Word: Karim\n",
      "Enter your Secret Word: rubayet\n",
      "Enter your Secret Word: Rubayet\n",
      "Hey, You Win the Game.\n"
     ]
    }
   ],
   "source": [
    "secret_word = \"Rubayet\"\n",
    "guess_word = \"\"\n",
    "while guess_word != secret_word:\n",
    "    guess_word = input(\"Enter your Secret Word: \")\n",
    "print (\"Hey, You Win the Game.\")"
   ]
  },
  {
   "cell_type": "code",
   "execution_count": 2,
   "id": "8d27507c",
   "metadata": {},
   "outputs": [
    {
     "name": "stdout",
     "output_type": "stream",
     "text": [
      "Enter your Secret Word: Rana\n",
      "Enter your Secret Word: Yasir\n",
      "Enter your Secret Word: Tayeb\n",
      "Out of Limit, You Lose the Game.\n"
     ]
    }
   ],
   "source": [
    "secret_word = \"Rubayet\"\n",
    "guess_word = \"\"\n",
    "guess_count = 0\n",
    "guess_limit = 3\n",
    "out_of_guess = False\n",
    "\n",
    "while guess_word != secret_word and not(out_of_guess):\n",
    "    if guess_count < guess_limit:\n",
    "        guess_word = input(\"Enter your Secret Word: \")\n",
    "        guess_count = guess_count + 1\n",
    "    else:\n",
    "        out_of_guess = True\n",
    "        \n",
    "if out_of_guess:\n",
    "    print (\"Out of Limit, You Lose the Game.\")\n",
    "else:\n",
    "    print (\"Hey, You Win the Game.\")"
   ]
  },
  {
   "cell_type": "code",
   "execution_count": 3,
   "id": "bf447326",
   "metadata": {},
   "outputs": [
    {
     "name": "stdout",
     "output_type": "stream",
     "text": [
      "Enter your Secret Word: Majid\n",
      "Enter your Secret Word: Kapil\n",
      "Enter your Secret Word: Rubayet\n",
      "Hey, You Win the Game.\n"
     ]
    }
   ],
   "source": [
    "secret_word = \"Rubayet\"\n",
    "guess_word = \"\"\n",
    "guess_count = 0\n",
    "guess_limit = 3\n",
    "out_of_guess = False\n",
    "\n",
    "while guess_word != secret_word and not(out_of_guess):\n",
    "    if guess_count < guess_limit:\n",
    "        guess_word = input(\"Enter your Secret Word: \")\n",
    "        guess_count = guess_count + 1\n",
    "    else:\n",
    "        out_of_guess = True\n",
    "        \n",
    "if out_of_guess:\n",
    "    print (\"Out of Limit, You Lose the Game.\")\n",
    "else:\n",
    "    print (\"Hey, You Win the Game.\")"
   ]
  },
  {
   "cell_type": "code",
   "execution_count": null,
   "id": "525492d5",
   "metadata": {},
   "outputs": [],
   "source": []
  }
 ],
 "metadata": {
  "kernelspec": {
   "display_name": "Python 3",
   "language": "python",
   "name": "python3"
  },
  "language_info": {
   "codemirror_mode": {
    "name": "ipython",
    "version": 3
   },
   "file_extension": ".py",
   "mimetype": "text/x-python",
   "name": "python",
   "nbconvert_exporter": "python",
   "pygments_lexer": "ipython3",
   "version": "3.6.13"
  }
 },
 "nbformat": 4,
 "nbformat_minor": 5
}

{
 "cells": [
  {
   "cell_type": "code",
   "execution_count": 1,
   "id": "af8bdd18",
   "metadata": {},
   "outputs": [
    {
     "data": {
      "text/plain": [
       "{'Apple', 'Banana', 'Mango'}"
      ]
     },
     "execution_count": 1,
     "metadata": {},
     "output_type": "execute_result"
    }
   ],
   "source": [
    "myset = {\"Apple\", \"Banana\", \"Mango\"}\n",
    "myset"
   ]
  },
  {
   "cell_type": "code",
   "execution_count": 2,
   "id": "fee41098",
   "metadata": {},
   "outputs": [
    {
     "data": {
      "text/plain": [
       "set"
      ]
     },
     "execution_count": 2,
     "metadata": {},
     "output_type": "execute_result"
    }
   ],
   "source": [
    "type(myset)"
   ]
  },
  {
   "cell_type": "code",
   "execution_count": 3,
   "id": "16515798",
   "metadata": {},
   "outputs": [
    {
     "name": "stdout",
     "output_type": "stream",
     "text": [
      "Banana\n",
      "Mango\n",
      "Apple\n"
     ]
    }
   ],
   "source": [
    "for item in myset:\n",
    "    print(item)"
   ]
  },
  {
   "cell_type": "code",
   "execution_count": 4,
   "id": "05c98aa7",
   "metadata": {},
   "outputs": [
    {
     "data": {
      "text/plain": [
       "{'Apple', 'Banana', 'Mango'}"
      ]
     },
     "execution_count": 4,
     "metadata": {},
     "output_type": "execute_result"
    }
   ],
   "source": [
    "myset = {\"Apple\", \"Banana\", \"Mango\", \"Banana\"}\n",
    "myset"
   ]
  },
  {
   "cell_type": "code",
   "execution_count": 5,
   "id": "1f30cacb",
   "metadata": {},
   "outputs": [
    {
     "data": {
      "text/plain": [
       "{'Apple', 'Banana', 'Mango', 'Orange'}"
      ]
     },
     "execution_count": 5,
     "metadata": {},
     "output_type": "execute_result"
    }
   ],
   "source": [
    "myset.add(\"Orange\")\n",
    "myset"
   ]
  },
  {
   "cell_type": "code",
   "execution_count": 6,
   "id": "0dd992ea",
   "metadata": {},
   "outputs": [
    {
     "data": {
      "text/plain": [
       "{'Apple', 'Banana', 'Orange'}"
      ]
     },
     "execution_count": 6,
     "metadata": {},
     "output_type": "execute_result"
    }
   ],
   "source": [
    "myset.remove(\"Mango\")\n",
    "myset"
   ]
  },
  {
   "cell_type": "code",
   "execution_count": 8,
   "id": "7eb85504",
   "metadata": {},
   "outputs": [
    {
     "data": {
      "text/plain": [
       "[1, 2, 3, 4]"
      ]
     },
     "execution_count": 8,
     "metadata": {},
     "output_type": "execute_result"
    }
   ],
   "source": [
    "List1 = [1,2,3]\n",
    "List2 = [2,3,4,4]\n",
    "### Finallist = [1,2,3,4] , make a unique list###\n",
    "myfinalset = set(List1).union(set(List2))\n",
    "list(myfinalset)"
   ]
  },
  {
   "cell_type": "code",
   "execution_count": 9,
   "id": "ac1e39a9",
   "metadata": {},
   "outputs": [
    {
     "data": {
      "text/plain": [
       "[2, 3]"
      ]
     },
     "execution_count": 9,
     "metadata": {},
     "output_type": "execute_result"
    }
   ],
   "source": [
    "List1 = [1,2,3]\n",
    "List2 = [2,3,4,4]\n",
    "### Finallist = [1,2,3,4] , make a common list###\n",
    "myfinalset = set(List1).intersection(set(List2))\n",
    "list(myfinalset)"
   ]
  },
  {
   "cell_type": "code",
   "execution_count": 10,
   "id": "fa07e6fb",
   "metadata": {},
   "outputs": [
    {
     "data": {
      "text/plain": [
       "[4]"
      ]
     },
     "execution_count": 10,
     "metadata": {},
     "output_type": "execute_result"
    }
   ],
   "source": [
    "List1 = [1,2,3]\n",
    "List2 = [2,3,4,4]\n",
    "### Finallist = [1,2,3,4] , make a common list###\n",
    "myfinalset = set(List2).difference(set(List1))\n",
    "list(myfinalset)"
   ]
  },
  {
   "cell_type": "code",
   "execution_count": 11,
   "id": "84b56268",
   "metadata": {},
   "outputs": [
    {
     "data": {
      "text/plain": [
       "{'Apple', 'Banana', 'Orange'}"
      ]
     },
     "execution_count": 11,
     "metadata": {},
     "output_type": "execute_result"
    }
   ],
   "source": [
    "myset"
   ]
  },
  {
   "cell_type": "code",
   "execution_count": 13,
   "id": "fe8c8737",
   "metadata": {},
   "outputs": [
    {
     "data": {
      "text/plain": [
       "{'Apple', 'Banana', 'Orange'}"
      ]
     },
     "execution_count": 13,
     "metadata": {},
     "output_type": "execute_result"
    }
   ],
   "source": [
    "### Set did not contain duplicate values ###\n",
    "myset.add(\"Orange\")\n",
    "myset"
   ]
  },
  {
   "cell_type": "code",
   "execution_count": 14,
   "id": "8767eaed",
   "metadata": {},
   "outputs": [
    {
     "data": {
      "text/plain": [
       "[1]"
      ]
     },
     "execution_count": 14,
     "metadata": {},
     "output_type": "execute_result"
    }
   ],
   "source": [
    "List1 = [1,2,3]\n",
    "List2 = [2,3,4,4]\n",
    "### Finallist = [1,2,3,4] , make a common list###\n",
    "myfinalset = set(List1).difference(set(List2))\n",
    "list(myfinalset)"
   ]
  },
  {
   "cell_type": "code",
   "execution_count": null,
   "id": "cedd8f75",
   "metadata": {},
   "outputs": [],
   "source": []
  }
 ],
 "metadata": {
  "kernelspec": {
   "display_name": "Python 3",
   "language": "python",
   "name": "python3"
  },
  "language_info": {
   "codemirror_mode": {
    "name": "ipython",
    "version": 3
   },
   "file_extension": ".py",
   "mimetype": "text/x-python",
   "name": "python",
   "nbconvert_exporter": "python",
   "pygments_lexer": "ipython3",
   "version": "3.6.13"
  }
 },
 "nbformat": 4,
 "nbformat_minor": 5
}
